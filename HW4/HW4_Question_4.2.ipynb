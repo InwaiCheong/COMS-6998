{
  "nbformat": 4,
  "nbformat_minor": 0,
  "metadata": {
    "colab": {
      "name": "HW4 -Question 4.2.ipynb",
      "provenance": [],
      "collapsed_sections": []
    },
    "kernelspec": {
      "name": "python3",
      "display_name": "Python 3"
    }
  },
  "cells": [
    {
      "cell_type": "markdown",
      "metadata": {
        "id": "3Wmf5XslDNNe"
      },
      "source": [
        "## Question 4"
      ]
    },
    {
      "cell_type": "code",
      "metadata": {
        "id": "TnGDqy2W9HSA"
      },
      "source": [
        "import numpy as np\n",
        "import matplotlib.pyplot as plt\n",
        "from sklearn import datasets, linear_model\n",
        "from sklearn.metrics import mean_squared_error, r2_score"
      ],
      "execution_count": 21,
      "outputs": []
    },
    {
      "cell_type": "code",
      "metadata": {
        "id": "JMAa8f_Q9XEf"
      },
      "source": [
        "#Data\n",
        "depth_k80 = np.array([[18],[20],[32],[44],[56]])\n",
        "depth_p100 = np.array([[18],[20],[32],[44],[56]])\n",
        "depth_v100 = np.array([[18],[20],[32],[44],[56]])\n",
        "\n",
        "k80_b1= np.array([0.0000227,0.0000423772565,0.0000174602666,0.0000483813523,0.0000034193423])\n",
        "k80_b2= np.array([0.436,0.683393017,0.615671622,0.69873126,0.235015279])\n",
        "k80_b3= np.array([0.574,0.412401137,0.464491486,0.46688691,1.84901118])\n",
        "\n",
        "p100_b1= np.array([0.0000220700028,0.0000545558632,0.0000174602666,0.000048631799,0.0000296560569])\n",
        "p100_b2= np.array([0.433519072,0.696757425,0.615671622,0.686884413,0.336667225])\n",
        "p100_b3= np.array([0.566868167,0.431502091,0.464491486,0.441463036,4.7969639])\n",
        "\n",
        "v100_b1= np.array([0.0000220139602,0.0000513887024,0.0000254869042,0.0000457817339,0.00000349075534])\n",
        "v100_b2= np.array([0.432939145,0.650006923,0.6116377,0.681306652,0.235590743])\n",
        "v100_b3= np.array([0.565302874,0.447030535,0.564461045,0.436623143,1.86963684])"
      ],
      "execution_count": 30,
      "outputs": []
    },
    {
      "cell_type": "code",
      "metadata": {
        "colab": {
          "base_uri": "https://localhost:8080/",
          "height": 367
        },
        "id": "1KKEE8Ey9hmp",
        "outputId": "0678182d-165b-494d-ce37-2029f9396ed5"
      },
      "source": [
        "#K80\n",
        "\n",
        "k80_beta = [k80_b1,k80_b2,k80_b3]\n",
        "p100_beta = [p100_b1,p100_b2,p100_b3]\n",
        "v100_beta = [v100_b1,v100_b2,v100_b3]\n",
        "\n",
        "for beta in k80_beta:\n",
        "  model = linear_model.LinearRegression()\n",
        "  model.fit(depth_k80,beta)\n",
        "  print('Coefficients: \\n', model.coef_)\n",
        "\n",
        "  plt.scatter(depth_k80,beta)\n",
        "  x=np.arange(0,60,0.1)\n",
        "  plt.plot(x,model.coef_*x)\n",
        "  plt.grid()"
      ],
      "execution_count": 43,
      "outputs": [
        {
          "output_type": "stream",
          "text": [
            "Coefficients: \n",
            " [-4.15733722e-07]\n",
            "Coefficients: \n",
            " [-0.00540115]\n",
            "Coefficients: \n",
            " [0.02832742]\n"
          ],
          "name": "stdout"
        },
        {
          "output_type": "display_data",
          "data": {
            "image/png": "[encoded data removed]",
            "text/plain": [
              "<Figure size 432x288 with 1 Axes>"
            ]
          },
          "metadata": {
            "tags": [],
            "needs_background": "light"
          }
        }
      ]
    },
    {
      "cell_type": "code",
      "metadata": {
        "colab": {
          "base_uri": "https://localhost:8080/",
          "height": 367
        },
        "id": "z_DbecHsCA61",
        "outputId": "2f8b8808-df83-40c2-abf0-6d1e9e18ae71"
      },
      "source": [
        "#P100\n",
        "for beta in p100_beta:\n",
        "  model = linear_model.LinearRegression()\n",
        "  model.fit(depth_k80,beta)\n",
        "  print('Coefficients: \\n', model.coef_)\n",
        "\n",
        "  plt.scatter(depth_p100,beta)\n",
        "  x=np.arange(0,60,0.1)\n",
        "  plt.plot(x,model.coef_*x)\n",
        "  plt.grid()"
      ],
      "execution_count": 44,
      "outputs": [
        {
          "output_type": "stream",
          "text": [
            "Coefficients: \n",
            " [-1.2568674e-08]\n",
            "Coefficients: \n",
            " [-0.00350647]\n",
            "Coefficients: \n",
            " [0.09029609]\n"
          ],
          "name": "stdout"
        },
        {
          "output_type": "display_data",
          "data": {
            "image/png": "[encoded data removed]",
            "text/plain": [
              "<Figure size 432x288 with 1 Axes>"
            ]
          },
          "metadata": {
            "tags": [],
            "needs_background": "light"
          }
        }
      ]
    },
    {
      "cell_type": "code",
      "metadata": {
        "colab": {
          "base_uri": "https://localhost:8080/",
          "height": 367
        },
        "id": "CP3yUIYq_94A",
        "outputId": "2d34f7ea-b720-4ca5-dd21-2c68b6f4319c"
      },
      "source": [
        "for beta in v100_beta:\n",
        "  model = linear_model.LinearRegression()\n",
        "  model.fit(depth_k80,beta)\n",
        "  print('Coefficients: \\n', model.coef_)\n",
        "\n",
        "  plt.scatter(depth_v100,beta)\n",
        "  x=np.arange(0,60,0.1)\n",
        "  plt.plot(x,model.coef_*x)\n",
        "  plt.grid()"
      ],
      "execution_count": 45,
      "outputs": [
        {
          "output_type": "stream",
          "text": [
            "Coefficients: \n",
            " [-5.65408701e-07]\n",
            "Coefficients: \n",
            " [-0.00505225]\n",
            "Coefficients: \n",
            " [0.02794812]\n"
          ],
          "name": "stdout"
        },
        {
          "output_type": "display_data",
          "data": {
            "image/png": "[encoded data removed]",
            "text/plain": [
              "<Figure size 432x288 with 1 Axes>"
            ]
          },
          "metadata": {
            "tags": [],
            "needs_background": "light"
          }
        }
      ]
    },
    {
      "cell_type": "code",
      "metadata": {
        "id": "elQgk8RQCHeE"
      },
      "source": [
        ""
      ],
      "execution_count": null,
      "outputs": []
    }
  ]
}