{
  "nbformat": 4,
  "nbformat_minor": 0,
  "metadata": {
    "colab": {
      "name": "HW3 COMS6998.ipynb",
      "provenance": [],
      "collapsed_sections": [],
      "toc_visible": true,
      "machine_shape": "hm"
    },
    "kernelspec": {
      "name": "python3",
      "display_name": "Python 3"
    },
    "accelerator": "GPU"
  },
  "cells": [
    {
      "cell_type": "markdown",
      "metadata": {
        "id": "hzhtFNs8fVzD"
      },
      "source": [
        "#Homework 3\n",
        "#COMS 6998 - Practical Deep Learning Systems Performance\n",
        "#In Wai Cheong (ic2518)"
      ]
    },
    {
      "cell_type": "code",
      "metadata": {
        "id": "BTKdYfhPlWhY"
      },
      "source": [
        "import numpy as np\n",
        "import pandas as pd\n",
        "import tensorflow as tf\n",
        "from tensorflow import keras\n",
        "import matplotlib.pyplot as plt\n",
        "from sklearn.model_selection import train_test_split\n",
        "from keras.models import Sequential\n",
        "from keras.layers import Dense\n",
        "from keras.layers import Dropout\n",
        "from keras.layers import Flatten\n",
        "from tensorflow.keras import initializers\n",
        "from keras.constraints import maxnorm\n",
        "from keras.optimizers import SGD\n",
        "from keras.layers import Activation\n",
        "from keras.layers.convolutional import Conv2D\n",
        "from keras.layers.convolutional import MaxPooling2D\n",
        "from keras.layers.normalization import BatchNormalization\n",
        "from keras.utils import np_utils\n",
        "import time"
      ],
      "execution_count": 1,
      "outputs": []
    },
    {
      "cell_type": "markdown",
      "metadata": {
        "id": "RZRxxntHn1FS"
      },
      "source": [
        "## Question 1"
      ]
    },
    {
      "cell_type": "markdown",
      "metadata": {
        "id": "Mini6ahbn3F_"
      },
      "source": [
        "1. Write the weight update equations for the five adaptive learning rate methods. Explain each term\n",
        "clearly. What are the hyperparameters in each policy ? Explain how AdaDelta and Adam are different\n",
        "from RMSProp"
      ]
    },
    {
      "cell_type": "markdown",
      "metadata": {
        "id": "gy8-2dAMjj4q"
      },
      "source": [
        "## Solution:\n",
        "\n",
        "AdaGrad: $$\\theta_{t+1} = \\theta_{t} - \\dfrac{\\eta}{\\sqrt{G_{t} + \\epsilon}} \\odot g_{t}$$\n",
        "\n",
        "$\\theta$ is the parameter. $\\eta$ is the learning rate. $\\epsilon$ is a smoothing term that prevents division by $0$. $\\odot$ is the matrix-vector product. $g_t$ is the gradient at time step $t$. $G_t$ is a diagonal matrix where each diagonal element $i$, $i$ is the sum of squares of the gradients with respect to $\\theta$ up to time step $t$.\n",
        "\n",
        "RMSProp: $$\\begin{align} \n",
        "\\begin{split} \n",
        "E[g^2]_t &= 0.9 E[g^2]_{t-1} + 0.1 g^2_t \\\\ \n",
        "\\theta_{t+1} &= \\theta_{t} - \\dfrac{\\eta}{\\sqrt{E[g^2]_t + \\epsilon}} g_{t} \n",
        "\\end{split} \n",
        "\\end{align}$$\n",
        "\n",
        "RMSProp+Nesterov: $$\\theta_{t+1} = \\theta_{t} - \\dfrac{\\eta}{\\sqrt{\\hat{v}_t} + \\epsilon} (\\beta_1 \\hat{m}_t + \\dfrac{(1 - \\beta_1) g_t}{1 - \\beta^t_1})$$\n",
        "\n",
        "$\\gamma$ is the momentum decay term. $\\beta_1$ is the decay rate.\n",
        "\n",
        "AdaDelta: $$\\begin{align} \n",
        "\\begin{split} \n",
        "\\Delta \\theta_t &= - \\dfrac{RMS[\\Delta \\theta]_{t-1}}{RMS[g]_{t}} g_{t} \\\\ \n",
        "\\theta_{t+1} &= \\theta_t + \\Delta \\theta_t \n",
        "\\end{split} \n",
        "\\end{align}$$\n",
        "\n",
        "RMS is the root mean squared error criterion.\n",
        "\n",
        "Adam: $$\\theta_{t+1} = \\theta_{t} - \\dfrac{\\eta}{\\sqrt{\\hat{v}_t} + \\epsilon} \\hat{m}_t$$\n",
        "\n",
        "$m_t$ and $v_t$ are estimates of the first moment (the mean) and the second moment (the uncentered variance) of the gradients respectively."
      ]
    },
    {
      "cell_type": "markdown",
      "metadata": {
        "id": "dnvLOoFDn6BC"
      },
      "source": [
        "2. Train the neural network using all the five methods with L2-regularization for 200 epochs each and plot\n",
        "the training loss vs number of epochs. Which method performs best (lowest training loss) ?"
      ]
    },
    {
      "cell_type": "code",
      "metadata": {
        "id": "_jmc9HiElhx0",
        "outputId": "d4162519-ac01-4dce-b3ab-4ab2b76b3066",
        "colab": {
          "base_uri": "https://localhost:8080/"
        }
      },
      "source": [
        "from keras.datasets import cifar10\n",
        "\n",
        "#import dataset\n",
        "(X_train, y_train), (X_test, y_test) = cifar10.load_data()\n",
        "\n",
        "#Preprocessing\n",
        "y_train = tf.keras.utils.to_categorical(y_train)\n",
        "y_test = tf.keras.utils.to_categorical(y_test)\n",
        "X_train = X_train.astype('float32')\n",
        "X_test = X_test.astype('float32')\n",
        "X_train  /= 255.0\n",
        "X_test /= 255.0\n",
        "\n",
        "print(X_train.shape,\n",
        "      y_train.shape,\n",
        "      X_test.shape,\n",
        "      y_test.shape)"
      ],
      "execution_count": null,
      "outputs": [
        {
          "output_type": "stream",
          "text": [
            "(50000, 32, 32, 3) (50000, 10) (10000, 32, 32, 3) (10000, 10)\n"
          ],
          "name": "stdout"
        }
      ]
    },
    {
      "cell_type": "code",
      "metadata": {
        "id": "jP82twlcq18V",
        "outputId": "c5e22ba5-6668-4f0f-c10c-d621bde8162e",
        "colab": {
          "base_uri": "https://localhost:8080/"
        }
      },
      "source": [
        "#Model\n",
        "\n",
        "model = Sequential()\n",
        "model.add(Flatten())\n",
        "model.add(Dense(1000,activation='relu',kernel_regularizer='l2',kernel_initializer='HeNormal'))\n",
        "model.add(Dense(1000,activation='relu',kernel_regularizer='l2',kernel_initializer='HeNormal'))\n",
        "model.add(Dense(10, activation='softmax'))\n",
        "\n",
        "#Adagrad\n",
        "tf.keras.optimizers.Adagrad(\n",
        "learning_rate=0.001, initial_accumulator_value=0.1, epsilon=1e-07,\n",
        "name='Adagrad')\n",
        "\n",
        "#RMSProp\n",
        "tf.keras.optimizers.RMSprop(\n",
        "    learning_rate=0.001,\n",
        "    rho=0.9,\n",
        "    momentum=0.0,\n",
        "    epsilon=1e-07,\n",
        "    centered=False,\n",
        "    name=\"RMSprop\")\n",
        "\n",
        "#RMSProp + Nesterov\n",
        "tf.keras.optimizers.Nadam(\n",
        "    learning_rate=0.001, beta_1=0.9, beta_2=0.999, epsilon=1e-07, name=\"Nadam\")\n",
        "\n",
        "#AdaDelta\n",
        "tf.keras.optimizers.Adadelta(\n",
        "    learning_rate=0.001, rho=0.95, epsilon=1e-07, name=\"Adadelta\")\n",
        "\n",
        "#Adam\n",
        "tf.keras.optimizers.Adam(\n",
        "    learning_rate=0.001,\n",
        "    beta_1=0.9,\n",
        "    beta_2=0.999,\n",
        "    epsilon=1e-07,\n",
        "    amsgrad=False,\n",
        "    name=\"Adam\",)"
      ],
      "execution_count": null,
      "outputs": [
        {
          "output_type": "execute_result",
          "data": {
            "text/plain": [
              "<tensorflow.python.keras.optimizer_v2.adam.Adam at 0x7f3b53a00c18>"
            ]
          },
          "metadata": {
            "tags": []
          },
          "execution_count": 3
        }
      ]
    },
    {
      "cell_type": "code",
      "metadata": {
        "id": "auMYBajDxjBx"
      },
      "source": [
        "#Adagrad\n",
        "\n",
        "##Compiling\n",
        "model.compile(loss='categorical_crossentropy', optimizer='Adagrad', metrics=['accuracy'])\n",
        "\n",
        "# Fit model\n",
        "tic = time.time()\n",
        "history = model.fit(X_train, y_train, batch_size=128, epochs=200, validation_data=(X_test,y_test),shuffle=True,verbose=2)\n",
        "toc = time.time()\n",
        "print('Training Time:',toc-tic,'seconds')"
      ],
      "execution_count": null,
      "outputs": []
    },
    {
      "cell_type": "code",
      "metadata": {
        "id": "kvAjBxYHxkxW"
      },
      "source": [
        "#RMSProp\n",
        "\n",
        "##Compiling\n",
        "model.compile(loss='categorical_crossentropy', optimizer='RMSProp', metrics=['accuracy'])\n",
        "\n",
        "# Fit model\n",
        "tic = time.time()\n",
        "history2 = model.fit(X_train, y_train, batch_size=128, epochs=200, validation_data=(X_test,y_test),shuffle=True,verbose=2)\n",
        "toc = time.time()\n",
        "print('Training Time:',toc-tic,'seconds')"
      ],
      "execution_count": null,
      "outputs": []
    },
    {
      "cell_type": "code",
      "metadata": {
        "id": "9s-Sy5Mbxk3E"
      },
      "source": [
        "#Nadam\n",
        "\n",
        "##Compiling\n",
        "model.compile(loss='categorical_crossentropy', optimizer='Nadam', metrics=['accuracy'])\n",
        "\n",
        "# Fit model\n",
        "tic = time.time()\n",
        "history3 = model.fit(X_train, y_train, batch_size=128, epochs=200, validation_data=(X_test,y_test),shuffle=True,verbose=2)\n",
        "toc = time.time()\n",
        "print('Training Time:',toc-tic,'seconds')"
      ],
      "execution_count": null,
      "outputs": []
    },
    {
      "cell_type": "code",
      "metadata": {
        "id": "z7Vr1RP9xk8k"
      },
      "source": [
        "#Adadelta\n",
        "\n",
        "##Compiling\n",
        "model.compile(loss='categorical_crossentropy', optimizer='Adadelta', metrics=['accuracy'])\n",
        "\n",
        "# Fit model\n",
        "tic = time.time()\n",
        "history4 = model.fit(X_train, y_train, batch_size=128, epochs=200, validation_data=(X_test,y_test),shuffle=True,verbose=2)\n",
        "toc = time.time()\n",
        "print('Training Time:',toc-tic,'seconds')"
      ],
      "execution_count": null,
      "outputs": []
    },
    {
      "cell_type": "code",
      "metadata": {
        "id": "3rZ63BS5xlCd"
      },
      "source": [
        "#Adam\n",
        "\n",
        "##Compiling\n",
        "model.compile(loss='categorical_crossentropy', optimizer='Adam', metrics=['accuracy'])\n",
        "\n",
        "# Fit model\n",
        "tic = time.time()\n",
        "history5 = model.fit(X_train, y_train, batch_size=128, epochs=200, validation_data=(X_test,y_test),shuffle=True,verbose=2)\n",
        "toc = time.time()\n",
        "print('Training Time:',toc-tic,'seconds')"
      ],
      "execution_count": null,
      "outputs": []
    },
    {
      "cell_type": "code",
      "metadata": {
        "id": "YmKMaxRJKibB",
        "outputId": "e623ca35-0a9e-40bb-bf01-b64bbd6d8e20",
        "colab": {
          "base_uri": "https://localhost:8080/",
          "height": 513
        }
      },
      "source": [
        "#Plotting\n",
        "fig = plt.figure(figsize=(10,8))\n",
        "plt.plot(history.history['loss'],label='AdaGrad')\n",
        "plt.plot(history2.history['loss'],label='RMSProp')\n",
        "plt.plot(history3.history['loss'],label='RMSProp+N')\n",
        "plt.plot(history4.history['loss'],label='AdaDelta')\n",
        "plt.plot(history5.history['loss'],label='Adam')\n",
        "plt.title('Epoch vs training loss no dropout')\n",
        "plt.ylabel('loss')\n",
        "plt.xlabel('epoch')\n",
        "plt.legend(loc='upper left')\n",
        "plt.grid()\n",
        "plt.show()"
      ],
      "execution_count": null,
      "outputs": [
        {
          "output_type": "display_data",
          "data": {
            "image/png": "[encoded data removed]",
            "text/plain": [
              "<Figure size 720x576 with 1 Axes>"
            ]
          },
          "metadata": {
            "tags": [],
            "needs_background": "light"
          }
        }
      ]
    },
    {
      "cell_type": "markdown",
      "metadata": {
        "id": "K6H7KVK0n7li"
      },
      "source": [
        "3.  Add dropout (probability 0.2 for input layer and 0.5 for hidden layers) and train the neural networkagain using all the five methods for 200 epochs.  Compare the training loss with that in part 2.  Whichmethod performs the best ?  For the five methods, compare their training time (to finish 200 epochswith dropout) to the training time in part 2 (to finish 200 epochs without dropout)."
      ]
    },
    {
      "cell_type": "code",
      "metadata": {
        "id": "dT-yRWJ40Vip"
      },
      "source": [
        "#Model\n",
        "model2 = Sequential()\n",
        "model2.add(Flatten())\n",
        "model2.add(Dropout(0.2))\n",
        "model2.add(Dense(1000,activation='relu',kernel_regularizer='l2',kernel_initializer='HeNormal'))\n",
        "model2.add(Dropout(0.5))\n",
        "model2.add(Dense(1000,activation='relu',kernel_regularizer='l2',kernel_initializer='HeNormal'))\n",
        "model2.add(Dropout(0.5))\n",
        "model2.add(Dense(10, activation='softmax'))"
      ],
      "execution_count": null,
      "outputs": []
    },
    {
      "cell_type": "code",
      "metadata": {
        "id": "ov4i13PT00E2"
      },
      "source": [
        "#Adagrad\n",
        "\n",
        "##Compiling\n",
        "model2.compile(loss='categorical_crossentropy', optimizer='Adagrad', metrics=['accuracy'])\n",
        "\n",
        "# Fit model\n",
        "tic = time.time()\n",
        "history = model2.fit(X_train, y_train, batch_size=128, epochs=200, validation_data=(X_test,y_test),shuffle=True,verbose=2)\n",
        "toc = time.time()\n",
        "print('Training Time:',toc-tic,'seconds')"
      ],
      "execution_count": null,
      "outputs": []
    },
    {
      "cell_type": "code",
      "metadata": {
        "id": "6xy2LUng05C-"
      },
      "source": [
        "#RMSProp\n",
        "\n",
        "##Compiling\n",
        "model2.compile(loss='categorical_crossentropy', optimizer='RMSProp', metrics=['accuracy'])\n",
        "\n",
        "# Fit model\n",
        "tic = time.time()\n",
        "history2 = model2.fit(X_train, y_train, batch_size=128, epochs=200, validation_data=(X_test,y_test),shuffle=True,verbose=2)\n",
        "toc = time.time()\n",
        "print('Training Time:',toc-tic,'seconds')"
      ],
      "execution_count": null,
      "outputs": []
    },
    {
      "cell_type": "code",
      "metadata": {
        "id": "rxSGDpVH09H6"
      },
      "source": [
        "#Nadam\n",
        "\n",
        "##Compiling\n",
        "model2.compile(loss='categorical_crossentropy', optimizer='Nadam', metrics=['accuracy'])\n",
        "\n",
        "# Fit model\n",
        "tic = time.time()\n",
        "history3 = model2.fit(X_train, y_train, batch_size=128, epochs=200, validation_data=(X_test,y_test),shuffle=True,verbose=2)\n",
        "toc = time.time()\n",
        "print('Training Time:',toc-tic,'seconds')"
      ],
      "execution_count": null,
      "outputs": []
    },
    {
      "cell_type": "code",
      "metadata": {
        "id": "TGwMUQPz1Alo"
      },
      "source": [
        "#Adadelta\n",
        "\n",
        "##Compiling\n",
        "model2.compile(loss='categorical_crossentropy', optimizer='Adadelta', metrics=['accuracy'])\n",
        "\n",
        "# Fit model\n",
        "tic = time.time()\n",
        "history4 = model2.fit(X_train, y_train, batch_size=128, epochs=200, validation_data=(X_test,y_test),shuffle=True,verbose=2)\n",
        "toc = time.time()\n",
        "print('Training Time:',toc-tic,'seconds')"
      ],
      "execution_count": null,
      "outputs": []
    },
    {
      "cell_type": "code",
      "metadata": {
        "id": "fqKMEGey1FbR"
      },
      "source": [
        "#Adam\n",
        "\n",
        "##Compiling\n",
        "model2.compile(loss='categorical_crossentropy', optimizer='Adam', metrics=['accuracy'])\n",
        "\n",
        "# Fit model\n",
        "tic = time.time()\n",
        "history5 = model2.fit(X_train, y_train, batch_size=128, epochs=200, validation_data=(X_test,y_test),shuffle=True,verbose=2)\n",
        "toc = time.time()\n",
        "print('Training Time:',toc-tic,'seconds')"
      ],
      "execution_count": null,
      "outputs": []
    },
    {
      "cell_type": "code",
      "metadata": {
        "id": "Z_xrYZNXLdwk",
        "outputId": "57afd84a-f695-4a1f-e470-a82ac246ca3f",
        "colab": {
          "base_uri": "https://localhost:8080/",
          "height": 513
        }
      },
      "source": [
        "#Plotting\n",
        "fig = plt.figure(figsize=(10,8))\n",
        "plt.plot(history.history['loss'],label='AdaGrad')\n",
        "plt.plot(history2.history['loss'],label='RMSProp')\n",
        "plt.plot(history3.history['loss'],label='RMSProp+N')\n",
        "plt.plot(history4.history['loss'],label='AdaDelta')\n",
        "plt.plot(history5.history['loss'],label='Adam')\n",
        "plt.title('Epoch vs training loss with dropout')\n",
        "plt.ylabel('loss')\n",
        "plt.xlabel('epoch')\n",
        "plt.legend(loc='upper left')\n",
        "plt.grid()\n",
        "plt.show()"
      ],
      "execution_count": null,
      "outputs": [
        {
          "output_type": "display_data",
          "data": {
            "image/png": "[encoded data removed]",
            "text/plain": [
              "<Figure size 720x576 with 1 Axes>"
            ]
          },
          "metadata": {
            "tags": [],
            "needs_background": "light"
          }
        }
      ]
    },
    {
      "cell_type": "markdown",
      "metadata": {
        "id": "4sCgpmTIn7zX"
      },
      "source": [
        "4.  Compare test accuracy of trained model for all the five methods from part 2 and part 3.  Note that tocalculate test accuracy of model trained using dropout you need to appropriately scale the weights (bythe dropout probability). "
      ]
    },
    {
      "cell_type": "markdown",
      "metadata": {
        "id": "0tOxKMossAhR"
      },
      "source": [
        "## Solution\n",
        "\n",
        "Test accuracy for non-dropout: <br>\n",
        "Adagrad: 0.4995 <br>\n",
        "RMSProp: 0.3113 <br>\n",
        "RMSProp+N: 0.4676 <br>\n",
        "AdaDelta: 0.4861 <br>\n",
        "Adam: 0.4528 <br>\n",
        "\n",
        "Test accuracy for dropout: <br>\n",
        "Adagrad: 0.4809 <br>\n",
        "RMSProp: 0.2648 <br>\n",
        "RMSProp+N: 0.3096 <br>\n",
        "AdaDelta: 0.3138 <br>\n",
        "Adam: 0.2251\n",
        "\n",
        "The test accuracy for non-dropout is better.\n"
      ]
    },
    {
      "cell_type": "markdown",
      "metadata": {
        "id": "ZMgYuta7oHoY"
      },
      "source": [
        "## Question 3"
      ]
    },
    {
      "cell_type": "markdown",
      "metadata": {
        "id": "msVkltULn7-Q"
      },
      "source": [
        "1.  Calculate the number of parameters in Alexnet.  You will have to show calculations for each layer andthen sum it to obtain the total number of parameters in Alexnet.  When calculating you will need toaccount for all the filters (size, strides, padding) at each layer.  Look at Sec.  3.5 and Figure 2 in Alexnetpaper (see reference).  Points will only be given when explicit calculations are shown for each layer. "
      ]
    },
    {
      "cell_type": "markdown",
      "metadata": {
        "id": "HS4eciy_6gKF"
      },
      "source": [
        "## Solution:\n",
        "Parameters = (size of kernels^2 * # of channels in input image * number of kernels) + number of kernels <br>\n",
        "\n",
        "Output of ConvLayer = (input - size of kernels + 2*padding)/stride + 1\n",
        "Output of MaxPool = (input - pool size)/stride + 1\n",
        "\n",
        "Output = $\\frac{227 -  11 + 2(0)}{4} + 1 = 55$ <br>\n",
        "CONV1: $(11)^2(3)(96)+96 = 34944$ parameters; size: 55 x 55 x 96 <br>\n",
        "\n",
        "Output = $\\frac{55 - 3}{2}+1=27$ <br>\n",
        "POOL1: $0$ parameters; size: 27 x 27 x 96 <br>\n",
        "\n",
        "Output = $\\frac{27 -  5 + 2(2)}{1} + 1 = 27$ <br>\n",
        "CONV2: $(5)^2(96)(256)+256=614656$ parameters; size: 27 x 27 x 256 <br>\n",
        "\n",
        "Output = $\\frac{27 - 3}{2}+1=13$ <br>\n",
        "POOL2: $0$ parameters; size: 13 x 13 x 256 <br>\n",
        "\n",
        "Output = $\\frac{13 -  3 + 2(1)}{1} + 1 = 13$ <br>\n",
        "CONV3: $(3)^2(256)(384)+384=885120$ parameters; size: 13 x 13 x 384 <br>\n",
        "\n",
        "Output = $\\frac{13 -  3 + 2(1)}{1} + 1 = 13$ <br>\n",
        "CONV4: $(3)^2(384)(384)+384=1327488$ parameters; size: 13 x 13 x 384 <br>\n",
        "\n",
        "Output = $\\frac{13 -  3 + 2(1)}{1} + 1 = 13$ <br>\n",
        "CONV5: $(3)^2(384)(256)+256=884992$ parameters; size: 13 x 13 x 256 <br>\n",
        "\n",
        "Output = $\\frac{13 - 3}{2}+1=6$ <br>\n",
        "POOL5: $0$ parameters; size: 6 x 6 x 256 <br>\n",
        "\n",
        "FC: $(1)^2(9216)(4096)+4096=37752832$ parameters; size = 4096 x 1 <br>\n",
        "\n",
        "FC: $(1)^2(4096)(4096)+4096=16781312$ parameters; size = 4096 x 1 <br>\n",
        "\n",
        "FC: $(1)^2(4096)(1000)+1000=4097000$ parameters; size = 4096 x 1 <br>\n",
        "\n",
        "Total: $62,378,344$ parameters\n"
      ]
    },
    {
      "cell_type": "markdown",
      "metadata": {
        "id": "XRE8cfWKoXt4"
      },
      "source": [
        "2.  VGG (Simonyan et al.) has an extremely homogeneous architecture that only performs 3x3 convolutionswith stride 1 and pad 1 and 2x2 max pooling with stride 2 (and no padding) from the beginning tothe end.  However VGGNet is very expensive to evaluate and uses a lot more memory and parameters.Refer to VGG19 architecture on page 3 in Table 1 of the paper by Simonyan et al.  You need to completeTable 1 below for calculating activation units and parameters at each layer in VGG19 (without countingbiases).  Its been partially filled for you."
      ]
    },
    {
      "cell_type": "markdown",
      "metadata": {
        "id": "q8fKEwfNe13u"
      },
      "source": [
        "## Solution: (Only included missing entries)\n",
        "CONV3-128: Memory: $(112)(112)(128)=1605632$; Parameters: $3(3)(64)(128)=73728$<br>\n",
        "\n",
        "CONV3-128: Memory: $(112)(112)(128)=1605632$; Parameters: $3(3)(128)(128)=147456$<br>\n",
        "\n",
        "CONV3-256: Memory: $(56)(56)(256)=802816$; Parameters: $3(3)(128)(256)=294912$<br>\n",
        "\n",
        "CONV3-256: Memory: $(56)(56)(256)=802816$; Parameters: $3(3)(256)(256)=589824$<br>\n",
        "\n",
        "CONV3-256: Memory: $(56)(56)(256)=802816$; Parameters: $3(3)(256)(256)=589824$<br>\n",
        "\n",
        "POOL2: Memory: $28(28)(256)=200704$ <br>\n",
        "\n",
        "CONV3-512: Memory: $(28)(28)(512)=401408$; Parameters: $3(3)(256)(512)=1179648$<br>\n",
        "\n",
        "CONV3-512: Memory: $(28)(28)(512)=401408$; Parameters: $3(3)(512)(512)=2359296$<br>\n",
        "\n",
        "POOL2: Memory: $14(14)(512)=100353$ <br>\n",
        "\n",
        "CONV3-512: Memory: $(14)(14)(512)=100352$; Parameters: $3(3)(512)(512)=2359296$<br>\n",
        "\n",
        "CONV3-512: Memory: $(14)(14)(512)=100352$; Parameters: $3(3)(512)(512)=2359296$<br>\n",
        "\n",
        "CONV3-512: Memory: $(14)(14)(512)=100352$; Parameters: $3(3)(512)(512)=2359296$<br>\n",
        "\n",
        "CONV3-512: Memory: $(14)(14)(512)=100352$; Parameters: $3(3)(512)(512)=2359296$<br>\n",
        "\n",
        "POOL2: Memory: $7(7)(512)=25088$ <br>\n",
        "\n",
        "FC: Parameters: $4096(25088)=102760488$ <br>\n",
        "\n",
        "FC: Parameters: $4096(1000)=4096000$ <br>\n",
        "\n",
        "Total: Memory: ~$16.5M$, Parameters ~$140M$: \n"
      ]
    },
    {
      "cell_type": "markdown",
      "metadata": {
        "id": "uMaPSvueoXy3"
      },
      "source": [
        "3.  VGG  architectures  have  smaller  filters  but  deeper  networks  compared  to  Alexnet  (3x3  compared  to11x11  or  5x5).   Show  that  a  stack  ofNconvolution  layers  each  of  filter  sizeF×Fhas  the  samereceptive field as one convolution layer with filter of size (NF−N+ 1)×(NF−N+ 1).  Use this tocalculate the receptive field of 3 filters of size 5x5. "
      ]
    },
    {
      "cell_type": "markdown",
      "metadata": {
        "id": "Xpx5GG1ed7Jt"
      },
      "source": [
        "## Solution\n",
        "\n",
        "Stack of N convolution layer of filter size FxF: <br>\n",
        "$L_1^K=L-F+1$, where $L$ is the shape and $K$ is the kernel <br>\n",
        "Doing it $n$ times: $L_n^K=L-N(F+1)$ <br>\n",
        "\n",
        "For one convolution layer with filter of size (NF-N+1)x(NF-N+1), the size is: <br>\n",
        "$L-(NF-N+1)+1 = L-N(F+1)$ which is the same as the size given above.\n"
      ]
    },
    {
      "cell_type": "markdown",
      "metadata": {
        "id": "q-1ztIHNoX5y"
      },
      "source": [
        "4.  The original Googlenet paper (Szegedy et al.)  proposes two architectures for Inception module, shownin Figure 2 on page 5 of the paper, referred to as naive and dimensionality reduction respectively.\n",
        "\n",
        "(a)  What is the general idea behind designing an inception module (parallel convolutional filters of different sizes with a pooling followed by concatenation) in a convolutional neural network?"
      ]
    },
    {
      "cell_type": "markdown",
      "metadata": {
        "id": "gMoeAHdmeE_W"
      },
      "source": [
        "## Solution\n",
        "\n",
        "The general idea is to not make things more computationally difficult by simply increasing network size. The inception module takes advantage of the matrix-multiplication routine by converting sparse matrices from kernels into a denser format."
      ]
    },
    {
      "cell_type": "markdown",
      "metadata": {
        "id": "JsN7jyJOZFqI"
      },
      "source": [
        "(b) Assuming the input to inception module (referred to as \"previous layer\" in Figure 2 of the pa-\n",
        "per) has size 32x32x256, calculate the output size after filter concatenation for the naive and\n",
        "dimensionality reduction inception architectures with number of filters given in Figure 1."
      ]
    },
    {
      "cell_type": "markdown",
      "metadata": {
        "id": "i9RZiPbDeGfJ"
      },
      "source": [
        "## Solution\n",
        "\n",
        "Naive: 32x32x(128+192+96+256) = 32x32x672 <br>\n",
        "DR: 32x32x(128+192+96+64) = 32x32x480"
      ]
    },
    {
      "cell_type": "markdown",
      "metadata": {
        "id": "4kenq36jZKsv"
      },
      "source": [
        "(c) Next calculate the total number of convolutional operations for each of the two inception archi-\n",
        "tecture again assuming the input to the module has dimensions 32x32x256 and number of filters\n",
        "given in Figure 1."
      ]
    },
    {
      "cell_type": "markdown",
      "metadata": {
        "id": "9yf81KyNeIZe"
      },
      "source": [
        "## Solution\n",
        "\n",
        "Number of convolutional operations: <br>\n",
        "\n",
        "Naive: <br>\n",
        "CONV1 = 32 x 32 x 1 x 256 x 128 = 33554432 <br>\n",
        "CONV3 = 32 x 32 x 9 x 256 x 128 = 301989888 <br>\n",
        "CONV5 = 32 x 32 x 25 x 256 x 128 = 838860800 <br>\n",
        "Total = 1174405120 <br>\n",
        "\n",
        "DR: <br>\n",
        "CONV1 = (32 x 32 x 256 x 128) + (32 x 32 x 256 x 128) + (32 x 32 x 256 x 64) = 92274688 <br>\n",
        "CONV3 = 32 x 32 x 9 x 128 x 192 = 226492416 <br>\n",
        "CONV5 = 32 x 32 x 25 x 32 x 96 = 78643200 <br>\n",
        "Total = 397410304 <br>"
      ]
    },
    {
      "cell_type": "markdown",
      "metadata": {
        "id": "eLZJGHARZMkI"
      },
      "source": [
        "(d) Based on the calculations in part (c) explain the problem with naive architecture and how dimensionality reduction architecture helps (Hint: compare computational complexity). How much is the\n",
        "computational saving ?"
      ]
    },
    {
      "cell_type": "markdown",
      "metadata": {
        "id": "7TcKnzzxeJ8h"
      },
      "source": [
        "##Solution\n",
        "\n",
        "In terms of computational complexity, the naive architecture is 2.96 times more expensive than DR. DR helps by having smaller outputs for every inception module."
      ]
    },
    {
      "cell_type": "markdown",
      "metadata": {
        "id": "OdyksP9MYw9a"
      },
      "source": [
        "## Question 4"
      ]
    },
    {
      "cell_type": "markdown",
      "metadata": {
        "id": "6qwzVdsjY0pS"
      },
      "source": [
        "1. Explain cutout regularization and its advantages compared to simple dropout (as argued in the paper\n",
        "by DeVries et al) in your own words. Select any 2 images from CIFAR10 and show how does these images look after applying cutout. Use a square-shaped fixed size zero-mask to a random location\n",
        "of each image and generate its cutout version. Refer to the paper by DeVries et al (Section 3) and\n",
        "associated github repository."
      ]
    },
    {
      "cell_type": "markdown",
      "metadata": {
        "id": "Wg-sewVwA36H"
      },
      "source": [
        "## Solution\n",
        "\n",
        "Cutout regularization essentially augments your data by cutting out a block of pixels from the dataset. The advantages of CR is that it isn't going to be sensitive to noise in data, and generates new images that the network hasn't seen. "
      ]
    },
    {
      "cell_type": "code",
      "metadata": {
        "id": "i7kbFkkXA4c3",
        "outputId": "958bbed7-46c3-472f-ff67-54046fba59ad",
        "colab": {
          "base_uri": "https://localhost:8080/"
        }
      },
      "source": [
        "from keras.datasets import cifar10\n",
        "\n",
        "#import dataset\n",
        "(X_train, y_train), (X_test, y_test) = cifar10.load_data()\n",
        "\n",
        "image1 = X_train[0]\n",
        "image2 = X_train[1]"
      ],
      "execution_count": 2,
      "outputs": [
        {
          "output_type": "stream",
          "text": [
            "Downloading data from https://www.cs.toronto.edu/~kriz/cifar-10-python.tar.gz\n",
            "170500096/170498071 [==============================] - 11s 0us/step\n"
          ],
          "name": "stdout"
        }
      ]
    },
    {
      "cell_type": "code",
      "metadata": {
        "id": "N36mFPkPhOxp",
        "outputId": "c78c2b01-8a12-4043-f54a-090be308c39a",
        "colab": {
          "base_uri": "https://localhost:8080/",
          "height": 219
        }
      },
      "source": [
        "plt.subplot(1,2,1)\n",
        "plt.imshow(image1)\n",
        "plt.subplot(1,2,2)\n",
        "plt.imshow(image2)"
      ],
      "execution_count": 3,
      "outputs": [
        {
          "output_type": "execute_result",
          "data": {
            "text/plain": [
              "<matplotlib.image.AxesImage at 0x7f74ab558da0>"
            ]
          },
          "metadata": {
            "tags": []
          },
          "execution_count": 3
        },
        {
          "output_type": "display_data",
          "data": {
            "image/png": "[encoded data removed]",
            "text/plain": [
              "<Figure size 432x288 with 2 Axes>"
            ]
          },
          "metadata": {
            "tags": [],
            "needs_background": "light"
          }
        }
      ]
    },
    {
      "cell_type": "code",
      "metadata": {
        "id": "XNfTEXf9hTuv"
      },
      "source": [
        "def apply_mask(image, size=12, n_squares=1):\n",
        "    h, w, channels = image.shape\n",
        "    new_image = image\n",
        "    for _ in range(n_squares):\n",
        "        y = np.random.randint(h)\n",
        "        x = np.random.randint(w)\n",
        "        y1 = np.clip(y - size // 2, 0, h)\n",
        "        y2 = np.clip(y + size // 2, 0, h)\n",
        "        x1 = np.clip(x - size // 2, 0, w)\n",
        "        x2 = np.clip(x + size // 2, 0, w)\n",
        "        new_image[y1:y2,x1:x2,:] = 0\n",
        "    return new_image"
      ],
      "execution_count": 4,
      "outputs": []
    },
    {
      "cell_type": "code",
      "metadata": {
        "id": "SWHwOMvZhT44",
        "outputId": "53c62775-c611-4319-8e68-2b9fcefec0a9",
        "colab": {
          "base_uri": "https://localhost:8080/",
          "height": 219
        }
      },
      "source": [
        "plt.subplot(1,2,1)\n",
        "plt.imshow(apply_mask(image1))\n",
        "plt.subplot(1,2,2)\n",
        "plt.imshow(apply_mask(image2))"
      ],
      "execution_count": 5,
      "outputs": [
        {
          "output_type": "execute_result",
          "data": {
            "text/plain": [
              "<matplotlib.image.AxesImage at 0x7f74ab00f470>"
            ]
          },
          "metadata": {
            "tags": []
          },
          "execution_count": 5
        },
        {
          "output_type": "display_data",
          "data": {
            "image/png": "[encoded data removed]",
            "text/plain": [
              "<Figure size 432x288 with 2 Axes>"
            ]
          },
          "metadata": {
            "tags": [],
            "needs_background": "light"
          }
        }
      ]
    },
    {
      "cell_type": "markdown",
      "metadata": {
        "id": "pNi0LR73Y04G"
      },
      "source": [
        "2. Using CIFAR10 datasest and Resnet-44 we will first apply simple data augmentation as in He et al.\n",
        "(look at Section 4.2 of He et al.) and train the model with batch size 64. Note that testing is always\n",
        "done with original images. Plot validation error vs number of training epochs."
      ]
    },
    {
      "cell_type": "code",
      "metadata": {
        "id": "f7ejrv4dA7RN",
        "outputId": "b3d0bbc3-d566-48bf-a284-ef4b07a313c7",
        "colab": {
          "base_uri": "https://localhost:8080/",
          "height": 346
        }
      },
      "source": [
        "'''\n",
        "Applied Cutout regularization after data normalization\n",
        "'''\n",
        "\n",
        "from __future__ import print_function\n",
        "import keras\n",
        "from keras.layers import Dense, Conv2D, BatchNormalization, Activation\n",
        "from keras.layers import AveragePooling2D, Input, Flatten\n",
        "from keras.optimizers import Adam\n",
        "from keras.callbacks import ModelCheckpoint, LearningRateScheduler\n",
        "from keras.callbacks import ReduceLROnPlateau\n",
        "from keras.preprocessing.image import ImageDataGenerator\n",
        "from keras.regularizers import l2\n",
        "from keras import backend as K\n",
        "from keras.models import Model\n",
        "from keras.datasets import cifar10\n",
        "import numpy as np\n",
        "import os\n",
        "\n",
        "# Training parameters\n",
        "batch_size = 1000  # orig paper trained all networks with batch_size=128\n",
        "epochs = 100\n",
        "data_augmentation = False\n",
        "num_classes = 10\n",
        "\n",
        "# Subtracting pixel mean improves accuracy\n",
        "subtract_pixel_mean = True\n",
        "n=5\n",
        "\n",
        "version = 2\n",
        "\n",
        "# Computed depth from supplied model parameter n\n",
        "if version == 1:\n",
        "    depth = n * 6 + 2\n",
        "elif version == 2:\n",
        "    depth = n * 9 + 2\n",
        "\n",
        "# Model name, depth and version\n",
        "model_type = 'ResNet%dv%d' % (depth, version)\n",
        "\n",
        "# Load the CIFAR10 data.\n",
        "(x_train, y_train), (x_test, y_test) = cifar10.load_data()\n",
        "\n",
        "# Input image dimensions.\n",
        "input_shape = x_train.shape[1:]\n",
        "\n",
        "#Cutout Regularization\n",
        "for i in x_train:\n",
        "  apply_mask(i,size=12,n_squares=1)\n",
        "for i in x_test:\n",
        "  apply_mask(i,size=12,n_squares=1)\n",
        "\n",
        "# Normalize data.\n",
        "x_train = x_train.astype('float32') / 255\n",
        "x_test = x_test.astype('float32') / 255\n",
        "\n",
        "# If subtract pixel mean is enabled\n",
        "if subtract_pixel_mean:\n",
        "    x_train_mean = np.mean(x_train, axis=0)\n",
        "    x_train -= x_train_mean\n",
        "    x_test -= x_train_mean\n",
        "\n",
        "\n",
        "# Convert class vectors to binary class matrices.\n",
        "y_train = keras.utils.to_categorical(y_train, num_classes)\n",
        "y_test = keras.utils.to_categorical(y_test, num_classes)\n",
        "\n",
        "\n",
        "\n",
        "\n",
        "def lr_schedule(epoch):\n",
        "    \"\"\"Learning Rate Schedule\n",
        "    Learning rate is scheduled to be reduced after 80, 120, 160, 180 epochs.\n",
        "    Called automatically every epoch as part of callbacks during training.\n",
        "    # Arguments\n",
        "        epoch (int): The number of epochs\n",
        "    # Returns\n",
        "        lr (float32): learning rate\n",
        "    \"\"\"\n",
        "    lr = 1e-3\n",
        "    if epoch > 180:\n",
        "        lr *= 0.5e-3\n",
        "    elif epoch > 160:\n",
        "        lr *= 1e-3\n",
        "    elif epoch > 120:\n",
        "        lr *= 1e-2\n",
        "    elif epoch > 80:\n",
        "        lr *= 1e-1\n",
        "    print('Learning rate: ', lr)\n",
        "    return lr\n",
        "\n",
        "\n",
        "def resnet_block(inputs,\n",
        "                 num_filters=16,\n",
        "                 kernel_size=3,\n",
        "                 strides=1,\n",
        "                 activation='relu',\n",
        "                 batch_normalization=True,\n",
        "                 conv_first=True):\n",
        "    \"\"\"2D Convolution-Batch Normalization-Activation stack builder\n",
        "    # Arguments\n",
        "        inputs (tensor): input tensor from input image or previous layer\n",
        "        num_filters (int): Conv2D number of filters\n",
        "        kernel_size (int): Conv2D square kernel dimensions\n",
        "        strides (int): Conv2D square stride dimensions\n",
        "        activation (string): activation name\n",
        "        batch_normalization (bool): whether to include batch normalization\n",
        "        conv_first (bool): conv-bn-activation (True) or\n",
        "            activation-bn-conv (False)\n",
        "    # Returns\n",
        "        x (tensor): tensor as input to the next layer\n",
        "    \"\"\"\n",
        "    x = inputs\n",
        "    if conv_first:\n",
        "        x = Conv2D(num_filters,\n",
        "                   kernel_size=kernel_size,\n",
        "                   strides=strides,\n",
        "                   padding='same',\n",
        "                   kernel_initializer='he_normal',\n",
        "                   kernel_regularizer=l2(1e-4))(x)\n",
        "        if batch_normalization:\n",
        "            x = BatchNormalization()(x)\n",
        "        if activation:\n",
        "            x = Activation(activation)(x)\n",
        "        return x\n",
        "    if batch_normalization:\n",
        "        x = BatchNormalization()(x)\n",
        "    if activation:\n",
        "        x = Activation('relu')(x)\n",
        "    x = Conv2D(num_filters,\n",
        "               kernel_size=kernel_size,\n",
        "               strides=strides,\n",
        "               padding='same',\n",
        "               kernel_initializer='he_normal',\n",
        "               kernel_regularizer=l2(1e-4))(x)\n",
        "    return x\n",
        "\n",
        "\n",
        "def resnet_v1(input_shape, depth, num_classes=10):\n",
        "    \n",
        "    if (depth - 2) % 6 != 0:\n",
        "        raise ValueError('depth should be 6n+2 (eg 20, 32, 44 in [a])')\n",
        "    # Start model definition.\n",
        "    inputs = Input(shape=input_shape)\n",
        "    num_filters = 16\n",
        "    num_sub_blocks = int((depth - 2) / 6)\n",
        "\n",
        "    x = resnet_block(inputs=inputs)\n",
        "    # Instantiate convolutional base (stack of blocks).\n",
        "    for i in range(3):\n",
        "        for j in range(num_sub_blocks):\n",
        "            strides = 1\n",
        "            is_first_layer_but_not_first_block = j == 0 and i > 0\n",
        "            if is_first_layer_but_not_first_block:\n",
        "                strides = 2\n",
        "            y = resnet_block(inputs=x,\n",
        "                             num_filters=num_filters,\n",
        "                             strides=strides)\n",
        "            y = resnet_block(inputs=y,\n",
        "                             num_filters=num_filters,\n",
        "                             activation=None)\n",
        "            if is_first_layer_but_not_first_block:\n",
        "                x = resnet_block(inputs=x,\n",
        "                                 num_filters=num_filters,\n",
        "                                 kernel_size=1,\n",
        "                                 strides=strides,\n",
        "                                 activation=None,\n",
        "                                 batch_normalization=False)\n",
        "            x = keras.layers.add([x, y])\n",
        "            x = Activation('relu')(x)\n",
        "        num_filters = 2 * num_filters\n",
        "\n",
        "    # Add classifier on top.\n",
        "    # v1 does not use BN after last shortcut connection-ReLU\n",
        "    x = AveragePooling2D(pool_size=8)(x)\n",
        "    y = Flatten()(x)\n",
        "    outputs = Dense(num_classes,\n",
        "                    activation='softmax',\n",
        "                    kernel_initializer='he_normal')(y)\n",
        "\n",
        "    # Instantiate model.\n",
        "    model = Model(inputs=inputs, outputs=outputs)\n",
        "    print(model.history())\n",
        "    return model\n",
        "\n",
        "\n",
        "def resnet_v2(input_shape, depth, num_classes=10):\n",
        "    \"\"\"ResNet Version 2 Model builder [b]\n",
        "    Stacks of (1 x 1)-(3 x 3)-(1 x 1) BN-ReLU-Conv2D or also known as\n",
        "    bottleneck layer\n",
        "    First shortcut connection per layer is 1 x 1 Conv2D.\n",
        "    Second and onwards shortcut connection is identity.\n",
        "    Features maps sizes: 16(input), 64(1st sub_block), 128(2nd), 256(3rd)\n",
        "    # Arguments\n",
        "        input_shape (tensor): shape of input image tensor\n",
        "        depth (int): number of core convolutional layers\n",
        "        num_classes (int): number of classes (CIFAR10 has 10)\n",
        "    # Returns\n",
        "        model (Model): Keras model instance\n",
        "    \"\"\"\n",
        "    if (depth - 2) % 9 != 0:\n",
        "        raise ValueError('depth should be 9n+2 (eg 56 or 110 in [b])')\n",
        "    # Start model definition.\n",
        "    inputs = Input(shape=input_shape)\n",
        "    num_filters_in = 16\n",
        "    num_filters_out = 64\n",
        "    filter_multiplier = 4\n",
        "    num_sub_blocks = int((depth - 2) / 9)\n",
        "\n",
        "    # v2 performs Conv2D with BN-ReLU on input before splitting into 2 paths\n",
        "    x = resnet_block(inputs=inputs,\n",
        "                     num_filters=num_filters_in,\n",
        "                     conv_first=True)\n",
        "\n",
        "    # Instantiate convolutional base (stack of blocks).\n",
        "    activation = None\n",
        "    batch_normalization = False\n",
        "    for i in range(3):\n",
        "        if i > 0:\n",
        "            filter_multiplier = 2\n",
        "        num_filters_out = num_filters_in * filter_multiplier\n",
        "\n",
        "        for j in range(num_sub_blocks):\n",
        "            strides = 1\n",
        "            is_first_layer_but_not_first_block = j == 0 and i > 0\n",
        "            if is_first_layer_but_not_first_block:\n",
        "                strides = 2\n",
        "            y = resnet_block(inputs=x,\n",
        "                             num_filters=num_filters_in,\n",
        "                             kernel_size=1,\n",
        "                             strides=strides,\n",
        "                             activation=activation,\n",
        "                             batch_normalization=batch_normalization,\n",
        "                             conv_first=False)\n",
        "            activation = 'relu'\n",
        "            batch_normalization = True\n",
        "            y = resnet_block(inputs=y,\n",
        "                             num_filters=num_filters_in,\n",
        "                             conv_first=False)\n",
        "            y = resnet_block(inputs=y,\n",
        "                             num_filters=num_filters_out,\n",
        "                             kernel_size=1,\n",
        "                             conv_first=False)\n",
        "            if j == 0:\n",
        "                x = resnet_block(inputs=x,\n",
        "                                 num_filters=num_filters_out,\n",
        "                                 kernel_size=1,\n",
        "                                 strides=strides,\n",
        "                                 activation=None,\n",
        "                                 batch_normalization=False)\n",
        "            x = keras.layers.add([x, y])\n",
        "\n",
        "        num_filters_in = num_filters_out\n",
        "\n",
        "    # Add classifier on top.\n",
        "    # v2 has BN-ReLU before Pooling\n",
        "    x = BatchNormalization()(x)\n",
        "    x = Activation('relu')(x)\n",
        "    x = AveragePooling2D(pool_size=8)(x)\n",
        "    y = Flatten()(x)\n",
        "    outputs = Dense(num_classes,\n",
        "                    activation='softmax',\n",
        "                    kernel_initializer='he_normal')(y)\n",
        "\n",
        "    # Instantiate model.\n",
        "    model = Model(inputs=inputs, outputs=outputs)\n",
        "    return model\n",
        "\n",
        "\n",
        "if version == 2:\n",
        "    model = resnet_v2(input_shape=input_shape, depth=depth)\n",
        "else:\n",
        "    model = resnet_v1(input_shape=input_shape, depth=depth)\n",
        "\n",
        "model.compile(loss='categorical_crossentropy',\n",
        "              optimizer=Adam(lr=lr_schedule(0)),\n",
        "              metrics=['accuracy'])\n",
        "print(model_type)\n",
        "\n",
        "# Run training, with or without data augmentation.\n",
        "if not data_augmentation:\n",
        "    print('Not using data augmentation.')\n",
        "    history = model.fit(x_train, y_train,\n",
        "              batch_size=batch_size,\n",
        "              epochs=epochs,\n",
        "              validation_data=(x_test, y_test),\n",
        "              shuffle=True, verbose = 0,\n",
        "              )\n",
        "else:\n",
        "    print('Using real-time data augmentation.')\n",
        "    # This will do preprocessing and realtime data augmentation:\n",
        "    datagen = ImageDataGenerator(\n",
        "        # set input mean to 0 over the dataset\n",
        "        featurewise_center=False,\n",
        "        # set each sample mean to 0\n",
        "        samplewise_center=False,\n",
        "        # divide inputs by std of dataset\n",
        "        featurewise_std_normalization=False,\n",
        "        # divide each input by its std\n",
        "        samplewise_std_normalization=False,\n",
        "        # apply ZCA whitening\n",
        "        zca_whitening=False,\n",
        "        # randomly rotate images in the range (deg 0 to 180)\n",
        "        rotation_range=0,\n",
        "        # randomly shift images horizontally\n",
        "        width_shift_range=0.1,\n",
        "        # randomly shift images vertically\n",
        "        height_shift_range=0.1,\n",
        "        # randomly flip images\n",
        "        horizontal_flip=True,\n",
        "        # randomly flip images\n",
        "        vertical_flip=False)\n",
        "\n",
        "    # Compute quantities required for featurewise normalization\n",
        "    # (std, mean, and principal components if ZCA whitening is applied).\n",
        "    datagen.fit(x_train)\n",
        "\n",
        "    # Fit the model on the batches generated by datagen.flow().\n",
        "    hist = model.fit_generator(datagen.flow(x_train, y_train, batch_size=batch_size),\n",
        "                        validation_data=(x_test, y_test),\n",
        "                        epochs=epochs, verbose=0, workers=4,\n",
        "                        callbacks=callbacks)\n",
        "    \n",
        "\n",
        "    \n",
        "# Score trained model.\n",
        "scores = model.evaluate(x_test, y_test, verbose=0)\n",
        "\n",
        "#Plotting\n",
        "plt.plot(history.history['val_loss'])\n",
        "plt.xlabel('epochs')\n",
        "plt.ylabel('test loss')\n",
        "plt.title('Epochs vs Test Loss')\n",
        "plt.grid()\n"
      ],
      "execution_count": 36,
      "outputs": [
        {
          "output_type": "stream",
          "text": [
            "Learning rate:  0.001\n",
            "ResNet47v2\n",
            "Not using data augmentation.\n"
          ],
          "name": "stdout"
        },
        {
          "output_type": "display_data",
          "data": {
            "image/png": "[encoded data removed]",
            "text/plain": [
              "<Figure size 432x288 with 1 Axes>"
            ]
          },
          "metadata": {
            "tags": [],
            "needs_background": "light"
          }
        }
      ]
    },
    {
      "cell_type": "markdown",
      "metadata": {
        "id": "CJSeFSHmY1RC"
      },
      "source": [
        "3. Next use cutout for data augmentation in Resnet-44 as in Hoffer et al. and train the model and use\n",
        "the same set-up in your experiments. Plot validation error vs number of epochs for different values of\n",
        "M (2,4,8,16,32) where M is the number of instances generated from an input sample after applying\n",
        "cutout M times effectively increasing the batch size to M*B, where B is the original batch size (before\n",
        "applying cutout augmentation). You will obtain a figure similar to Figure 3(a) in the paper by Hoffer\n",
        "et al. Also compare the number of epochs and wallclock time to reach 94% accuracy for different values\n",
        "of M. Do not run any experiment for more than 100 epochs. If even after 100 epochs of training you\n",
        "did not achieve 94% then just report the accuracy you obtain and the corresponding wallclock time to\n",
        "train for 100 epochs. Before attempting this question it is advisable to read paper by Hoffer et al. and\n",
        "especially Section 4.1."
      ]
    },
    {
      "cell_type": "code",
      "metadata": {
        "id": "GDvIPrEmA73p"
      },
      "source": [
        ""
      ],
      "execution_count": null,
      "outputs": []
    },
    {
      "cell_type": "markdown",
      "metadata": {
        "id": "cedi4SuZY1e0"
      },
      "source": [
        "# Question 5"
      ]
    },
    {
      "cell_type": "markdown",
      "metadata": {
        "id": "yh_3SNQoZiQC"
      },
      "source": [
        "1. Assume that total budget for number of hidden units we can have in the network is 512. Train a 1,\n",
        "2, and 3 hidden layers feedforward neural network to learn the regression function. For each neural\n",
        "network you can consider a different number of hidden units per hidden layer so that the total number\n",
        "of hidden units does not exceed 512. We would recommend to work with 16, 32, 64, 128, 256, 512,\n",
        "hidden units per layer. So if there is only one hidden layer you can have at most 512 units in that layer. If there are two hidden layers, you can have any combination of hidden units in each layer, e.g., 16 and\n",
        "256, 64 and 128, etc. such that the total is less than 512. Plot the RMSE (Root Mean Square Error)\n",
        "on test set for networks with different number of hidden layers as a function of total number of hidden\n",
        "units. If there are more than one network with the same number of hidden units (say a two hidden\n",
        "layer with 16 in first layer and 128 in second layer and another network with 128 in first layer and 16 in\n",
        "second) you will use the average RMSE. So you will have a figure with three curves, one each for 1, 2,\n",
        "and 3 layer networks, with x-axis being the total number of hidden units. Also plot another curve but\n",
        "with the x-axis being the number of parameters (weights) that you need to learn in the network."
      ]
    },
    {
      "cell_type": "code",
      "metadata": {
        "id": "cCM81ZNQFNFI"
      },
      "source": [
        "import random\n",
        "\n",
        "#Defining the function\n",
        "def eggholder(x):\n",
        "    return (-(x[1] + 47) * np.sin(np.sqrt(abs(x[0]/2 + (x[1]  + 47)))) - x[0] * np.sin(np.sqrt(abs(x[0] - (x[1]  + 47)))))\n",
        "\n",
        "X = []\n",
        "y = []\n",
        "\n",
        "#Evaluating eggholder function\n",
        "for i in range(100000):\n",
        "  x = np.array([random.uniform(-512,512),random.uniform(-512,512)])\n",
        "  X.append(np.array([random.uniform(-512,512),random.uniform(-512,512)]))\n",
        "  y.append(eggholder(x) + np.random.normal(0,0.3))\n",
        "\n",
        "X = np.asarray(X)\n",
        "y = np.asarray(y)\n",
        "\n",
        "#Split\n",
        "X_train, X_test, y_train, y_test = train_test_split(X, y, test_size=0.20, random_state=42)"
      ],
      "execution_count": null,
      "outputs": []
    },
    {
      "cell_type": "code",
      "metadata": {
        "id": "ExTbRffqcVLy"
      },
      "source": [
        "import time\n",
        "import keras.backend as K\n",
        "\n",
        "def rmse (y_true, y_pred):\n",
        "    return K.sqrt(K.mean(K.square(y_pred - y_true)))\n",
        "\n",
        "sgd = keras.optimizers.SGD(learning_rate = 0.00001,momentum=0.01, nesterov=True)\n",
        "\n",
        "onelayer_rmse = []\n",
        "twolayer_rmse = []\n",
        "threelayer_rmse = []\n",
        "\n",
        "num_params1 = []\n",
        "num_params2 = []\n",
        "num_params3 = []\n",
        "\n",
        "time_1layer = []\n",
        "time_2layer = []\n",
        "time_3layer = []\n",
        "\n",
        "units_total2 = [32,64,128,256,512]\n",
        "units_total3 = [16,32,64,128,256]\n",
        "\n",
        "#1 hidden layer\n",
        "units1 = [32,64,128,256,512]\n",
        "\n",
        "for i in units1:\n",
        "  model1 = Sequential()\n",
        "  model1.add(Dense(i, activation = 'relu', input_dim = 2))\n",
        "  model1.add(Dense(units = 1))\n",
        "  \n",
        "  model1.compile(optimizer = sgd, loss = 'mse', metrics=[rmse])\n",
        "\n",
        "  tic = time.time()\n",
        "  one_layer = model1.fit(X_train, y_train, batch_size = 1000, epochs = 2000, validation_data=(X_test,y_test),shuffle=True,verbose=0)\n",
        "  toc = time.time()\n",
        "\n",
        "  num_params1.append(model1.count_params())\n",
        "  onelayer_rmse.append(one_layer.history['val_rmse'][-1])\n",
        "  time_1layer.append(toc-tic)\n",
        "\n",
        "\n",
        "\n",
        "#2 hidden layers\n",
        "units2 = [16,32,64,128,256]\n",
        "\n",
        "for i in units2:\n",
        "  model2 = Sequential()\n",
        "  model2.add(Dense(i, activation = 'relu', input_dim = 2))\n",
        "  model2.add(BatchNormalization())\n",
        "  model2.add(Dense(i, activation = 'relu'))\n",
        "  model2.add(BatchNormalization())\n",
        "  model2.add(Dense(units = 1))\n",
        "\n",
        "  model2.compile(optimizer = sgd,loss = 'mse', metrics=[rmse])\n",
        "\n",
        "  tic = time.time()\n",
        "  two_layer = model2.fit(X_train, y_train, batch_size = 1000, epochs = 2000, validation_data=(X_test,y_test),shuffle=True,verbose=0)\n",
        "  toc = time.time()\n",
        "\n",
        "  num_params2.append(model2.count_params())\n",
        "  twolayer_rmse.append(two_layer.history['val_rmse'][-1])\n",
        "  time_2layer.append(toc-tic)\n",
        "\n",
        "\n",
        "\n",
        "#3 hidden layers\n",
        "units3 = [8,16,32,64,128]\n",
        "\n",
        "for i in units3: \n",
        "  model3 = Sequential()\n",
        "  model3.add(Dense(i, activation = 'relu', input_dim = 2))\n",
        "  model3.add(BatchNormalization())\n",
        "  model3.add(Dense(i, activation = 'relu'))\n",
        "  model3.add(BatchNormalization())\n",
        "  model3.add(Dense(i, activation = 'relu'))\n",
        "  model3.add(BatchNormalization())\n",
        "  model3.add(Dense(units = 1))\n",
        "\n",
        "  model3.compile(optimizer = sgd, loss = 'mse', metrics=[rmse])\n",
        "\n",
        "  tic = time.time()\n",
        "  three_layer = model3.fit(X_train, y_train, batch_size = 1000, epochs = 2000, validation_data=(X_test,y_test),shuffle=True,verbose=0)\n",
        "  toc = time.time()\n",
        "\n",
        "  num_params3.append(model3.count_params())\n",
        "  threelayer_rmse.append(three_layer.history['val_rmse'][-1])\n",
        "  time_3layer.append(toc-tic)\n"
      ],
      "execution_count": null,
      "outputs": []
    },
    {
      "cell_type": "code",
      "metadata": {
        "id": "psi9M7EbtBAg",
        "outputId": "f9f50ada-a4dc-4cfa-ca63-bc22d3e5ee82",
        "colab": {
          "base_uri": "https://localhost:8080/",
          "height": 513
        }
      },
      "source": [
        "#Plotting\n",
        "fig = plt.figure(figsize=(10,8))\n",
        "plt.plot(units1,onelayer_rmse,label='1 hidden layer')\n",
        "plt.plot(units_total2,twolayer_rmse,label='2 hidden layers')\n",
        "plt.plot(units_total3,threelayer_rmse,label='3 hidden layers')\n",
        "plt.title('Hidden Units vs test rmse')\n",
        "plt.ylabel('rmse')\n",
        "plt.xlabel('units')\n",
        "plt.legend()\n",
        "plt.grid()\n",
        "plt.show()"
      ],
      "execution_count": null,
      "outputs": [
        {
          "output_type": "display_data",
          "data": {
            "image/png": "[encoded data removed]",
            "text/plain": [
              "<Figure size 720x576 with 1 Axes>"
            ]
          },
          "metadata": {
            "tags": [],
            "needs_background": "light"
          }
        }
      ]
    },
    {
      "cell_type": "markdown",
      "metadata": {
        "id": "VEouy9bZZthI"
      },
      "source": [
        "2. Comment on the tradeoff between number of parameters and RMSE as you go from deeper (3 hidden\n",
        "layers) to shallow networks (1 hidden layer). Also measure the wall clock time for training each configuration and plot training time vs number of parameters. Do you see a similar tradeoff in training time\n",
        "?"
      ]
    },
    {
      "cell_type": "code",
      "metadata": {
        "id": "xMdxwnEdZvaG",
        "outputId": "65fe76fc-e519-4288-8c79-8259606435bd",
        "colab": {
          "base_uri": "https://localhost:8080/",
          "height": 513
        }
      },
      "source": [
        "#Plotting\n",
        "fig = plt.figure(figsize=(10,8))\n",
        "plt.plot(num_params1, onelayer_rmse,label='1 hidden layer')\n",
        "plt.plot(num_params2, twolayer_rmse,label='2 hidden layers')\n",
        "plt.plot(num_params3, threelayer_rmse,label='3 hidden layers')\n",
        "plt.title('Parameters vs test rmse')\n",
        "plt.ylabel('Parameters')\n",
        "plt.xlabel('rmse')\n",
        "plt.legend()\n",
        "plt.grid()\n",
        "plt.show()"
      ],
      "execution_count": null,
      "outputs": [
        {
          "output_type": "display_data",
          "data": {
            "image/png": "[encoded data removed]",
            "text/plain": [
              "<Figure size 720x576 with 1 Axes>"
            ]
          },
          "metadata": {
            "tags": [],
            "needs_background": "light"
          }
        }
      ]
    },
    {
      "cell_type": "code",
      "metadata": {
        "id": "bYg_tIudlKDP",
        "outputId": "3e5c4845-67fd-4f86-f372-55f75d751ea1",
        "colab": {
          "base_uri": "https://localhost:8080/",
          "height": 513
        }
      },
      "source": [
        "fig = plt.figure(figsize=(10,8))\n",
        "plt.plot(num_params1, time_1layer,  label='1 hidden layer')\n",
        "plt.plot(num_params2, time_2layer, label='2 hidden layers')\n",
        "plt.plot(num_params3 ,time_3layer,  label='3 hidden layers')\n",
        "plt.title('Training time vs number of parameters')\n",
        "plt.ylabel('training_time')\n",
        "plt.xlabel('parameters')\n",
        "plt.legend()\n",
        "plt.grid()\n",
        "plt.show()"
      ],
      "execution_count": null,
      "outputs": [
        {
          "output_type": "display_data",
          "data": {
            "image/png": "[encoded data removed]",
            "text/plain": [
              "<Figure size 720x576 with 1 Axes>"
            ]
          },
          "metadata": {
            "tags": [],
            "needs_background": "light"
          }
        }
      ]
    },
    {
      "cell_type": "code",
      "metadata": {
        "id": "CwpZMXOeNRCS"
      },
      "source": [
        ""
      ],
      "execution_count": null,
      "outputs": []
    }
  ]
}