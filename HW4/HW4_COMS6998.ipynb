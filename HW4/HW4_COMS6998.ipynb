{
  "nbformat": 4,
  "nbformat_minor": 0,
  "metadata": {
    "accelerator": "GPU",
    "colab": {
      "name": "HW4_COMS6998.ipynb",
      "provenance": [],
      "collapsed_sections": [],
      "toc_visible": true
    },
    "environment": {
      "name": "tf2-2-3-gpu.2-3.m59",
      "type": "gcloud",
      "uri": "gcr.io/deeplearning-platform-release/tf2-2-3-gpu.2-3:m59"
    },
    "kernelspec": {
      "display_name": "Python 3",
      "language": "python",
      "name": "python3"
    },
    "language_info": {
      "codemirror_mode": {
        "name": "ipython",
        "version": 3
      },
      "file_extension": ".py",
      "mimetype": "text/x-python",
      "name": "python",
      "nbconvert_exporter": "python",
      "pygments_lexer": "ipython3",
      "version": "3.7.8"
    }
  },
  "cells": [
    {
      "cell_type": "markdown",
      "metadata": {
        "id": "3YpPrZIc1jX0"
      },
      "source": [
        "# In Wai Cheong (ic2518)\n",
        "# COMS 6998 HW 4"
      ]
    },
    {
      "cell_type": "code",
      "metadata": {
        "id": "zCigOFJPHe7L"
      },
      "source": [
        "import matplotlib.pyplot as plt\n",
        "import numpy as np\n",
        "import tensorflow as tf\n",
        "import tensorflow.keras as keras"
      ],
      "execution_count": null,
      "outputs": []
    },
    {
      "cell_type": "markdown",
      "metadata": {
        "id": "twT3u-HF1nNk"
      },
      "source": [
        "## Question 1) \n",
        "\n",
        "For fine-tuning you will select a target dataset from the Visual-Decathlon challenge. Their web site (link below) has several datasets which you can download. Select any one of the visual decathlon dataset\n",
        "and make it your target dataset for transfer learning. Important : Do not select Imagenet1K as\n",
        "the target dataset. <br>\n",
        "\n",
        "(1a) Finetuning: You will first load a pretrained model (Resnet50) and change the final fully connected\n",
        "layer output to the number of classes in the target dataset. Describe your target dataset features,\n",
        "number of classes and distribution of images per class (i.e., number of images per class). Show\n",
        "any 4 sample images (belonging to 2 different classes) from your target dataset."
      ]
    },
    {
      "cell_type": "code",
      "metadata": {
        "colab": {
          "base_uri": "https://localhost:8080/",
          "height": 215
        },
        "id": "HW3zPoFmq5Jq",
        "outputId": "be0a83b6-103f-46ee-9d10-bb0a79a22331"
      },
      "source": [
        "(X_train, y_train), (X_test, y_test) = tf.keras.datasets.cifar100.load_data()\n",
        "\n",
        "y_train = tf.keras.utils.to_categorical(y_train)\n",
        "y_test = tf.keras.utils.to_categorical(y_test)\n",
        "X_train = X_train.astype('float32')\n",
        "X_test = X_test.astype('float32')\n",
        "X_train  /= 255.0\n",
        "X_test /= 255.0\n",
        "\n",
        "print('Number of samples in training set:',len(X_train))\n",
        "print('Number of classes:',len(np.unique(X_test)))\n",
        "print('100 classes containing 60 images each')\n",
        "\n",
        "fig = plt.figure(figsize = (8,10))\n",
        "plt.subplot(1,4,1)\n",
        "plt.imshow(X_train[0])\n",
        "plt.subplot(1,4,2)\n",
        "plt.imshow(X_train[1])\n",
        "plt.subplot(1,4,3)\n",
        "plt.imshow(X_train[2])\n",
        "plt.subplot(1,4,4)\n",
        "plt.imshow(X_train[3])"
      ],
      "execution_count": null,
      "outputs": [
        {
          "output_type": "stream",
          "text": [
            "Downloading data from https://www.cs.toronto.edu/~kriz/cifar-100-python.tar.gz\n",
            "169009152/169001437 [==============================] - 11s 0us/step\n",
            "Number of samples in training set: 50000\n",
            "Number of classes: 256\n",
            "100 classes containing 60 images each\n"
          ],
          "name": "stdout"
        },
        {
          "output_type": "execute_result",
          "data": {
            "text/plain": [
              "<matplotlib.image.AxesImage at 0x7fef21b9f490>"
            ]
          },
          "metadata": {
            "tags": []
          },
          "execution_count": 2
        },
        {
          "output_type": "display_data",
          "data": {
            "image/png": "[encoded data removed]",
            "text/plain": [
              "<Figure size 576x720 with 4 Axes>"
            ]
          },
          "metadata": {
            "tags": [],
            "needs_background": "light"
          }
        }
      ]
    },
    {
      "cell_type": "code",
      "metadata": {
        "id": "_khz6mKgHAZO",
        "outputId": "cb96b876-45f3-44af-ec6f-83347fa1913a"
      },
      "source": [
        "from keras.applications.resnet50 import ResNet50\n",
        "# load model\n",
        "model = ResNet50(input_shape = (32,32,3),weights=None,classes=100)"
      ],
      "execution_count": null,
      "outputs": [
        {
          "output_type": "stream",
          "text": [
            "Using TensorFlow backend.\n"
          ],
          "name": "stderr"
        }
      ]
    },
    {
      "cell_type": "code",
      "metadata": {
        "colab": {
          "base_uri": "https://localhost:8080/"
        },
        "id": "jn5PzUgoGgMp",
        "outputId": "219c7797-9af7-41d8-b1dc-38a682eb5c44"
      },
      "source": [
        "print(X_train.shape)\n",
        "print(X_test.shape)\n",
        "print(y_train.shape)\n",
        "print(y_test.shape)"
      ],
      "execution_count": null,
      "outputs": [
        {
          "output_type": "stream",
          "text": [
            "(50000, 32, 32, 3)\n",
            "(10000, 32, 32, 3)\n",
            "(50000, 100)\n",
            "(10000, 100)\n"
          ],
          "name": "stdout"
        }
      ]
    },
    {
      "cell_type": "markdown",
      "metadata": {
        "id": "7dHBxvEU13SU"
      },
      "source": [
        "(1b) First finetune by setting the same value of hyperparameters (learning rate=0.001, momentum=0.9)\n",
        "for all the layers. Keep batch size of 64 and train for 200-300 epochs or until model converges well.\n",
        "You will use a multi-step learning rate schedule and decay by a factor of 0.1 (\n",
        " = 0:1 in the link\n",
        "below). You can choose steps at which you want to decay the learning rate but do 3 drops during\n",
        "the training. So the first drop will bring down the learning rate to 0.0001, second to 0.00001, third\n",
        "to 0.000001. For example, if training for 200 epochs, first drop can happen at epoch 60, second at\n",
        "epoch 120 and third at epoch 180."
      ]
    },
    {
      "cell_type": "code",
      "metadata": {
        "colab": {
          "base_uri": "https://localhost:8080/",
          "height": 340
        },
        "id": "NHTZmiliD87o",
        "outputId": "0cab266a-0eb2-4914-cb1b-176c1b8494a7"
      },
      "source": [
        "#SGD Hyperparameters\n",
        "tf.keras.optimizers.SGD(learning_rate=0.001, momentum=0.9, nesterov=False, name=\"SGD\")\n",
        "\n",
        "#Compiling Model\n",
        "model.compile(optimizer='SGD',loss='categorical_crossentropy',metrics=['accuracy'])\n",
        "\n",
        "#Fitting model\n",
        "history = model.fit(X_train, y_train, batch_size=64, epochs=200, validation_data=(X_test,y_test),shuffle=True,verbose=0)\n",
        "history.history['accuracy']"
      ],
      "execution_count": null,
      "outputs": [
        {
          "output_type": "execute_result",
          "data": {
            "text/plain": [
              "[0.08077999949455261,\n",
              " 0.1469999998807907,\n",
              " 0.19043999910354614,\n",
              " 0.22519999742507935,\n",
              " 0.2630000114440918,\n",
              " 0.303600013256073,\n",
              " 0.33823999762535095,\n",
              " 0.3697800040245056,\n",
              " 0.40803998708724976,\n",
              " 0.43935999274253845,\n",
              " 0.4765799939632416,\n",
              " 0.5186200141906738,\n",
              " 0.5549399852752686,\n",
              " 0.5952000021934509,\n",
              " 0.6313199996948242,\n",
              " 0.6670399904251099,\n",
              " 0.6957399845123291,\n",
              " 0.7367200255393982,\n",
              " 0.7719200253486633,\n",
              " 0.7865599989891052,\n",
              " 0.8120200037956238,\n",
              " 0.8421199917793274,\n",
              " 0.8501200079917908,\n",
              " 0.8646799921989441,\n",
              " 0.8796799778938293,\n",
              " 0.890500009059906,\n",
              " 0.9078400135040283,\n",
              " 0.9072399735450745,\n",
              " 0.9130399823188782,\n",
              " 0.9183400273323059,\n",
              " 0.9259799718856812,\n",
              " 0.9387000203132629,\n",
              " 0.942579984664917,\n",
              " 0.9464799761772156,\n",
              " 0.9434400200843811,\n",
              " 0.9456999897956848,\n",
              " 0.9497799873352051,\n",
              " 0.9567199945449829,\n",
              " 0.9549199938774109,\n",
              " 0.9656000137329102,\n",
              " 0.9661200046539307,\n",
              " 0.9722800254821777,\n",
              " 0.9744799733161926,\n",
              " 0.9783999919891357,\n",
              " 0.9786199927330017,\n",
              " 0.9808599948883057,\n",
              " 0.9831600189208984,\n",
              " 0.9806200265884399,\n",
              " 0.9749400019645691,\n",
              " 0.9807999730110168,\n",
              " 0.9792199730873108,\n",
              " 0.9884799718856812,\n",
              " 0.9910799860954285,\n",
              " 0.9924200177192688,\n",
              " 0.9922199845314026,\n",
              " 0.992139995098114,\n",
              " 0.9928799867630005,\n",
              " 0.9947800040245056,\n",
              " 0.9929599761962891,\n",
              " 0.9936000108718872,\n",
              " 0.9930599927902222,\n",
              " 0.9945799708366394,\n",
              " 0.9941800236701965,\n",
              " 0.994920015335083,\n",
              " 0.9961199760437012,\n",
              " 0.9968799948692322,\n",
              " 0.9968799948692322,\n",
              " 0.9951199889183044,\n",
              " 0.9961199760437012,\n",
              " 0.9958000183105469,\n",
              " 0.9953799843788147,\n",
              " 0.9957000017166138,\n",
              " 0.9940800070762634,\n",
              " 0.9946200251579285,\n",
              " 0.9933599829673767,\n",
              " 0.9938600063323975,\n",
              " 0.9965400099754333,\n",
              " 0.9966599941253662,\n",
              " 0.9946399927139282,\n",
              " 0.9959400296211243,\n",
              " 0.9962000250816345,\n",
              " 0.9929199814796448,\n",
              " 0.9958599805831909,\n",
              " 0.9967799782752991,\n",
              " 0.9961199760437012,\n",
              " 0.9934599995613098,\n",
              " 0.9963399767875671,\n",
              " 0.9964399933815002,\n",
              " 0.99617999792099,\n",
              " 0.9969199895858765,\n",
              " 0.9968199729919434,\n",
              " 0.9973199963569641,\n",
              " 0.9977399706840515,\n",
              " 0.9922199845314026,\n",
              " 0.9944800138473511,\n",
              " 0.9959999918937683,\n",
              " 0.9965199828147888,\n",
              " 0.9965999722480774,\n",
              " 0.9959200024604797,\n",
              " 0.9944000244140625,\n",
              " 0.9962199926376343,\n",
              " 0.9964200258255005,\n",
              " 0.9962000250816345,\n",
              " 0.9950000047683716,\n",
              " 0.995419979095459,\n",
              " 0.996999979019165,\n",
              " 0.9968600273132324,\n",
              " 0.997759997844696,\n",
              " 0.9979000091552734,\n",
              " 0.9969000220298767,\n",
              " 0.9982799887657166,\n",
              " 0.9981200098991394,\n",
              " 0.9967600107192993,\n",
              " 0.996999979019165,\n",
              " 0.9966199994087219,\n",
              " 0.996940016746521,\n",
              " 0.9971799850463867,\n",
              " 0.9979000091552734,\n",
              " 0.9982200264930725,\n",
              " 0.9981200098991394,\n",
              " 0.9983999729156494,\n",
              " 0.9970399737358093,\n",
              " 0.9974200129508972,\n",
              " 0.9961599707603455,\n",
              " 0.9940599799156189,\n",
              " 0.9960200190544128,\n",
              " 0.9972000122070312,\n",
              " 0.9970600008964539,\n",
              " 0.9979000091552734,\n",
              " 0.9980999827384949,\n",
              " 0.9986799955368042,\n",
              " 0.9983199834823608,\n",
              " 0.997979998588562,\n",
              " 0.9977800250053406,\n",
              " 0.9965599775314331,\n",
              " 0.9963200092315674,\n",
              " 0.9947800040245056,\n",
              " 0.9967600107192993,\n",
              " 0.9975000023841858,\n",
              " 0.9977200031280518,\n",
              " 0.9988200068473816,\n",
              " 0.997439980506897,\n",
              " 0.9972000122070312,\n",
              " 0.9977200031280518,\n",
              " 0.9977200031280518,\n",
              " 0.9978200197219849,\n",
              " 0.9983400106430054,\n",
              " 0.9982799887657166,\n",
              " 0.9982200264930725,\n",
              " 0.9983199834823608,\n",
              " 0.9979599714279175,\n",
              " 0.9985600113868713,\n",
              " 0.9981600046157837,\n",
              " 0.9984599947929382,\n",
              " 0.998960018157959,\n",
              " 0.9988200068473816,\n",
              " 0.9985600113868713,\n",
              " 0.9984400272369385,\n",
              " 0.9969599843025208,\n",
              " 0.9968600273132324,\n",
              " 0.9982200264930725,\n",
              " 0.997439980506897,\n",
              " 0.9973599910736084,\n",
              " 0.9962400197982788,\n",
              " 0.9957200288772583,\n",
              " 0.997160017490387,\n",
              " 0.9953600168228149,\n",
              " 0.9956799745559692,\n",
              " 0.9958800077438354,\n",
              " 0.9970200061798096,\n",
              " 0.9965599775314331,\n",
              " 0.9964399933815002,\n",
              " 0.9969199895858765,\n",
              " 0.9962999820709229,\n",
              " 0.9968799948692322,\n",
              " 0.9978799819946289,\n",
              " 0.998199999332428,\n",
              " 0.9984999895095825,\n",
              " 0.9988800287246704,\n",
              " 0.9988600015640259,\n",
              " 0.9975799918174744,\n",
              " 0.9979199767112732,\n",
              " 0.9966800212860107,\n",
              " 0.9976599812507629,\n",
              " 0.9980800151824951,\n",
              " 0.9984599947929382,\n",
              " 0.9963200092315674,\n",
              " 0.9970999956130981,\n",
              " 0.9970399737358093,\n",
              " 0.9968199729919434,\n",
              " 0.9976999759674072,\n",
              " 0.9966599941253662,\n",
              " 0.994920015335083,\n",
              " 0.9973999857902527,\n",
              " 0.9955999851226807,\n",
              " 0.9974799752235413,\n",
              " 0.9973400235176086,\n",
              " 0.9973599910736084,\n",
              " 0.9969599843025208,\n",
              " 0.9965199828147888]"
            ]
          },
          "metadata": {
            "tags": []
          },
          "execution_count": 5
        }
      ]
    },
    {
      "cell_type": "markdown",
      "metadata": {
        "id": "FTMEyCiK13a6"
      },
      "source": [
        "(1c) Next keeping all the hyperparameters same as before, change the learning rate to 0.01 and 0.1\n",
        "uniformly for all the layers. This means keep all the layers at same learning rate. So you will be\n",
        "doing two experiments, one keeping learning rate of all layers at 0.01 and one with 0.1. Again\n",
        "finetune the model and report the final accuracy. How does the accuracy with the three learning\n",
        "rates compare ? Which learning rate gives you the best accuracy on the target dataset ?"
      ]
    },
    {
      "cell_type": "code",
      "metadata": {
        "id": "Yth4Xt2KJ8W6",
        "outputId": "942f3137-b359-4f0a-89eb-a267b0de0e26"
      },
      "source": [
        "#SGD Hyperparameters\n",
        "tf.keras.optimizers.SGD(learning_rate=0.01, momentum=0.9, nesterov=False, name=\"SGD\")\n",
        "\n",
        "#Compiling Model\n",
        "model.compile(optimizer='SGD',loss='categorical_crossentropy',metrics=['accuracy'])\n",
        "\n",
        "#Fitting model\n",
        "history = model.fit(X_train, y_train, batch_size=64, epochs=200, validation_data=(X_test,y_test),shuffle=True,verbose=0)\n",
        "history.history['accuracy']"
      ],
      "execution_count": null,
      "outputs": [
        {
          "output_type": "execute_result",
          "data": {
            "text/plain": [
              "[0.9964200258255005,\n",
              " 0.9967399835586548,\n",
              " 0.9954400062561035,\n",
              " 0.9970399737358093,\n",
              " 0.9980800151824951,\n",
              " 0.9975200295448303,\n",
              " 0.9982799887657166,\n",
              " 0.9985399842262268,\n",
              " 0.9974799752235413,\n",
              " 0.9979000091552734,\n",
              " 0.9980000257492065,\n",
              " 0.9983400106430054,\n",
              " 0.9984400272369385,\n",
              " 0.9985600113868713,\n",
              " 0.9975000023841858,\n",
              " 0.9976400136947632,\n",
              " 0.9978600144386292,\n",
              " 0.997759997844696,\n",
              " 0.9959800243377686,\n",
              " 0.9972000122070312,\n",
              " 0.9975600242614746,\n",
              " 0.997979998588562,\n",
              " 0.9975799918174744,\n",
              " 0.9976400136947632,\n",
              " 0.9977800250053406,\n",
              " 0.998520016670227,\n",
              " 0.9973999857902527,\n",
              " 0.9969800114631653,\n",
              " 0.9979199767112732,\n",
              " 0.9982799887657166,\n",
              " 0.9980199933052063,\n",
              " 0.9985600113868713,\n",
              " 0.9983999729156494,\n",
              " 0.9988800287246704,\n",
              " 0.998199999332428,\n",
              " 0.9979599714279175,\n",
              " 0.9976599812507629,\n",
              " 0.9973199963569641,\n",
              " 0.9973999857902527,\n",
              " 0.9978399872779846,\n",
              " 0.9986199736595154,\n",
              " 0.9980599880218506,\n",
              " 0.9984599947929382,\n",
              " 0.9988200068473816,\n",
              " 0.9988399744033813,\n",
              " 0.9975799918174744,\n",
              " 0.9983599781990051,\n",
              " 0.9985600113868713,\n",
              " 0.9979599714279175,\n",
              " 0.9981600046157837,\n",
              " 0.9986799955368042,\n",
              " 0.9980999827384949,\n",
              " 0.9987599849700928,\n",
              " 0.9987800121307373,\n",
              " 0.9976800084114075,\n",
              " 0.996999979019165,\n",
              " 0.9973000288009644,\n",
              " 0.9972000122070312,\n",
              " 0.9983400106430054,\n",
              " 0.9969199895858765,\n",
              " 0.9977800250053406,\n",
              " 0.9967600107192993,\n",
              " 0.996720016002655,\n",
              " 0.9965800046920776,\n",
              " 0.9975000023841858,\n",
              " 0.9978399872779846,\n",
              " 0.9973999857902527,\n",
              " 0.9982600212097168,\n",
              " 0.9973400235176086,\n",
              " 0.9959999918937683,\n",
              " 0.997979998588562,\n",
              " 0.9981600046157837,\n",
              " 0.9975399971008301,\n",
              " 0.9977399706840515,\n",
              " 0.998740017414093,\n",
              " 0.9985399842262268,\n",
              " 0.9984999895095825,\n",
              " 0.9986199736595154,\n",
              " 0.9988399744033813,\n",
              " 0.9987999796867371,\n",
              " 0.9971200227737427,\n",
              " 0.9976800084114075,\n",
              " 0.9975399971008301,\n",
              " 0.9965599775314331,\n",
              " 0.9973199963569641,\n",
              " 0.9983999729156494,\n",
              " 0.9973999857902527,\n",
              " 0.9970200061798096,\n",
              " 0.9979400038719177,\n",
              " 0.9978399872779846,\n",
              " 0.9986000061035156,\n",
              " 0.9984800219535828,\n",
              " 0.9989399909973145,\n",
              " 0.9986799955368042,\n",
              " 0.9982799887657166,\n",
              " 0.9982399940490723,\n",
              " 0.9978200197219849,\n",
              " 0.998420000076294,\n",
              " 0.9986199736595154,\n",
              " 0.9988399744033813,\n",
              " 0.9987599849700928,\n",
              " 0.9979400038719177,\n",
              " 0.9988200068473816,\n",
              " 0.9983199834823608,\n",
              " 0.9974799752235413,\n",
              " 0.9983800053596497,\n",
              " 0.9988200068473816,\n",
              " 0.9988800287246704,\n",
              " 0.999019980430603,\n",
              " 0.9980999827384949,\n",
              " 0.9982399940490723,\n",
              " 0.9988800287246704,\n",
              " 0.9990400075912476,\n",
              " 0.9990800023078918,\n",
              " 0.9987199902534485,\n",
              " 0.9987000226974487,\n",
              " 0.9987999796867371,\n",
              " 0.9978600144386292,\n",
              " 0.9988600015640259,\n",
              " 0.9982399940490723,\n",
              " 0.9985399842262268,\n",
              " 0.9980000257492065,\n",
              " 0.9983800053596497,\n",
              " 0.9984999895095825,\n",
              " 0.9983000159263611,\n",
              " 0.9985799789428711,\n",
              " 0.9986400008201599,\n",
              " 0.9987999796867371,\n",
              " 0.9977399706840515,\n",
              " 0.9988600015640259,\n",
              " 0.9989799857139587,\n",
              " 0.9984999895095825,\n",
              " 0.9988600015640259,\n",
              " 0.9986199736595154,\n",
              " 0.9987199902534485,\n",
              " 0.9982600212097168,\n",
              " 0.9991400241851807,\n",
              " 0.9985399842262268,\n",
              " 0.9987199902534485,\n",
              " 0.9988800287246704,\n",
              " 0.9976800084114075,\n",
              " 0.9984400272369385,\n",
              " 0.9985799789428711,\n",
              " 0.9986400008201599,\n",
              " 0.9981399774551392,\n",
              " 0.9981600046157837,\n",
              " 0.9979400038719177,\n",
              " 0.9977200031280518,\n",
              " 0.9970399737358093,\n",
              " 0.9983199834823608,\n",
              " 0.9983400106430054,\n",
              " 0.998420000076294,\n",
              " 0.9977399706840515,\n",
              " 0.9968400001525879,\n",
              " 0.9948199987411499,\n",
              " 0.9973800182342529,\n",
              " 0.9977200031280518,\n",
              " 0.9944400191307068,\n",
              " 0.9973999857902527,\n",
              " 0.9978399872779846,\n",
              " 0.9985399842262268,\n",
              " 0.9984800219535828,\n",
              " 0.9983000159263611,\n",
              " 0.9990000128746033,\n",
              " 0.9978399872779846,\n",
              " 0.9981600046157837,\n",
              " 0.9987599849700928,\n",
              " 0.9988800287246704,\n",
              " 0.9986600279808044,\n",
              " 0.9990599751472473,\n",
              " 0.9993399977684021,\n",
              " 0.9991199970245361,\n",
              " 0.9990000128746033,\n",
              " 0.9981200098991394,\n",
              " 0.9978600144386292,\n",
              " 0.9989200234413147,\n",
              " 0.9988800287246704,\n",
              " 0.9988999962806702,\n",
              " 0.9987800121307373,\n",
              " 0.9983599781990051,\n",
              " 0.9987000226974487,\n",
              " 0.9989399909973145,\n",
              " 0.9989399909973145,\n",
              " 0.9984999895095825,\n",
              " 0.9990599751472473,\n",
              " 0.9985799789428711,\n",
              " 0.9988800287246704,\n",
              " 0.9990400075912476,\n",
              " 0.9990800023078918,\n",
              " 0.999239981174469,\n",
              " 0.9991000294685364,\n",
              " 0.9990400075912476,\n",
              " 0.9992799758911133,\n",
              " 0.9987800121307373,\n",
              " 0.9984800219535828,\n",
              " 0.9985799789428711,\n",
              " 0.9983999729156494,\n",
              " 0.9989799857139587,\n",
              " 0.9989399909973145,\n",
              " 0.999180018901825]"
            ]
          },
          "metadata": {
            "tags": []
          },
          "execution_count": 6
        }
      ]
    },
    {
      "cell_type": "code",
      "metadata": {
        "id": "D20MuLC_J8c8",
        "outputId": "9ae0387e-3b27-4740-964a-7cb1a2db5a81"
      },
      "source": [
        "#SGD Hyperparameters\n",
        "tf.keras.optimizers.SGD(learning_rate=0.1, momentum=0.9, nesterov=False, name=\"SGD\")\n",
        "\n",
        "#Compiling Model\n",
        "model.compile(optimizer='SGD',loss='categorical_crossentropy',metrics=['accuracy'])\n",
        "\n",
        "#Fitting model\n",
        "history = model.fit(X_train, y_train, batch_size=64, epochs=200, validation_data=(X_test,y_test),shuffle=True,verbose=0)\n",
        "history.history['accuracy']"
      ],
      "execution_count": null,
      "outputs": [
        {
          "output_type": "execute_result",
          "data": {
            "text/plain": [
              "[0.9988200068473816,\n",
              " 0.9990599751472473,\n",
              " 0.9983400106430054,\n",
              " 0.9986799955368042,\n",
              " 0.9989200234413147,\n",
              " 0.9990599751472473,\n",
              " 0.999180018901825,\n",
              " 0.999019980430603,\n",
              " 0.9991999864578247,\n",
              " 0.998740017414093,\n",
              " 0.9991599917411804,\n",
              " 0.9993000030517578,\n",
              " 0.999239981174469,\n",
              " 0.9992799758911133,\n",
              " 0.9991599917411804,\n",
              " 0.9993199706077576,\n",
              " 0.999180018901825,\n",
              " 0.9988600015640259,\n",
              " 0.9990400075912476,\n",
              " 0.9986000061035156,\n",
              " 0.999180018901825,\n",
              " 0.9989799857139587,\n",
              " 0.998960018157959,\n",
              " 0.9990800023078918,\n",
              " 0.9983999729156494,\n",
              " 0.9986000061035156,\n",
              " 0.9988200068473816,\n",
              " 0.9982399940490723,\n",
              " 0.998420000076294,\n",
              " 0.9983199834823608,\n",
              " 0.998740017414093,\n",
              " 0.9988800287246704,\n",
              " 0.9986400008201599,\n",
              " 0.9977999925613403,\n",
              " 0.9976199865341187,\n",
              " 0.9975399971008301,\n",
              " 0.9983599781990051,\n",
              " 0.998740017414093,\n",
              " 0.9983400106430054,\n",
              " 0.9986000061035156,\n",
              " 0.9988399744033813,\n",
              " 0.9992799758911133,\n",
              " 0.9993000030517578,\n",
              " 0.9984999895095825,\n",
              " 0.9988800287246704,\n",
              " 0.997979998588562,\n",
              " 0.9987800121307373,\n",
              " 0.9968199729919434,\n",
              " 0.9972800016403198,\n",
              " 0.996999979019165,\n",
              " 0.9976400136947632,\n",
              " 0.9976199865341187,\n",
              " 0.9987599849700928,\n",
              " 0.9966599941253662,\n",
              " 0.9965199828147888,\n",
              " 0.9976000189781189,\n",
              " 0.9968199729919434,\n",
              " 0.9976400136947632,\n",
              " 0.9978399872779846,\n",
              " 0.9983000159263611,\n",
              " 0.9973400235176086,\n",
              " 0.998420000076294,\n",
              " 0.998740017414093,\n",
              " 0.9974600076675415,\n",
              " 0.998420000076294,\n",
              " 0.9984599947929382,\n",
              " 0.9987800121307373,\n",
              " 0.9988600015640259,\n",
              " 0.9977399706840515,\n",
              " 0.9987999796867371,\n",
              " 0.9991000294685364,\n",
              " 0.9987199902534485,\n",
              " 0.9990000128746033,\n",
              " 0.997160017490387,\n",
              " 0.9972400069236755,\n",
              " 0.9966199994087219,\n",
              " 0.99617999792099,\n",
              " 0.9968400001525879,\n",
              " 0.9973000288009644,\n",
              " 0.998740017414093,\n",
              " 0.9982799887657166,\n",
              " 0.9985399842262268,\n",
              " 0.9986000061035156,\n",
              " 0.9986400008201599,\n",
              " 0.9982399940490723,\n",
              " 0.9985600113868713,\n",
              " 0.9987000226974487,\n",
              " 0.9990400075912476,\n",
              " 0.9990400075912476,\n",
              " 0.9983000159263611,\n",
              " 0.9980000257492065,\n",
              " 0.9981799721717834,\n",
              " 0.9983400106430054,\n",
              " 0.9988600015640259,\n",
              " 0.9987000226974487,\n",
              " 0.998740017414093,\n",
              " 0.997759997844696,\n",
              " 0.9978799819946289,\n",
              " 0.9976999759674072,\n",
              " 0.9981799721717834,\n",
              " 0.9975399971008301,\n",
              " 0.9982600212097168,\n",
              " 0.9983199834823608,\n",
              " 0.9985600113868713,\n",
              " 0.9985600113868713,\n",
              " 0.9989799857139587,\n",
              " 0.9990400075912476,\n",
              " 0.9984800219535828,\n",
              " 0.9983599781990051,\n",
              " 0.9987000226974487,\n",
              " 0.9987199902534485,\n",
              " 0.9986799955368042,\n",
              " 0.998520016670227,\n",
              " 0.9991400241851807,\n",
              " 0.999180018901825,\n",
              " 0.9990400075912476,\n",
              " 0.9983599781990051,\n",
              " 0.9990000128746033,\n",
              " 0.9990800023078918,\n",
              " 0.9993000030517578,\n",
              " 0.9988999962806702,\n",
              " 0.9986799955368042,\n",
              " 0.998420000076294,\n",
              " 0.9988600015640259,\n",
              " 0.9990599751472473,\n",
              " 0.9990400075912476,\n",
              " 0.9993799924850464,\n",
              " 0.9989799857139587,\n",
              " 0.9992600083351135,\n",
              " 0.9991000294685364,\n",
              " 0.9988999962806702,\n",
              " 0.9990000128746033,\n",
              " 0.9990000128746033,\n",
              " 0.9991599917411804,\n",
              " 0.9990599751472473,\n",
              " 0.9987000226974487,\n",
              " 0.9963799715042114,\n",
              " 0.9984599947929382,\n",
              " 0.998740017414093,\n",
              " 0.999019980430603,\n",
              " 0.9985799789428711,\n",
              " 0.9986000061035156,\n",
              " 0.9988999962806702,\n",
              " 0.9990000128746033,\n",
              " 0.9985399842262268,\n",
              " 0.9986000061035156,\n",
              " 0.9988999962806702,\n",
              " 0.9987999796867371,\n",
              " 0.9985600113868713,\n",
              " 0.9990599751472473,\n",
              " 0.9990599751472473,\n",
              " 0.9987599849700928,\n",
              " 0.9990599751472473,\n",
              " 0.9987800121307373,\n",
              " 0.9984400272369385,\n",
              " 0.9985600113868713,\n",
              " 0.9987599849700928,\n",
              " 0.9990800023078918,\n",
              " 0.9983199834823608,\n",
              " 0.9981600046157837,\n",
              " 0.9988399744033813,\n",
              " 0.9982399940490723,\n",
              " 0.9982399940490723,\n",
              " 0.9987999796867371,\n",
              " 0.999180018901825,\n",
              " 0.9991000294685364,\n",
              " 0.9991999864578247,\n",
              " 0.9985399842262268,\n",
              " 0.9987199902534485,\n",
              " 0.9979400038719177,\n",
              " 0.9985399842262268,\n",
              " 0.9988399744033813,\n",
              " 0.9992200136184692,\n",
              " 0.9990800023078918,\n",
              " 0.9986600279808044,\n",
              " 0.9986199736595154,\n",
              " 0.9983999729156494,\n",
              " 0.9981799721717834,\n",
              " 0.9991000294685364,\n",
              " 0.9986600279808044,\n",
              " 0.9977999925613403,\n",
              " 0.9990599751472473,\n",
              " 0.9990599751472473,\n",
              " 0.999019980430603,\n",
              " 0.9993799924850464,\n",
              " 0.9991199970245361,\n",
              " 0.9990400075912476,\n",
              " 0.9990800023078918,\n",
              " 0.9993199706077576,\n",
              " 0.9984999895095825,\n",
              " 0.9991599917411804,\n",
              " 0.999019980430603,\n",
              " 0.9986199736595154,\n",
              " 0.9981799721717834,\n",
              " 0.9978799819946289,\n",
              " 0.9984599947929382,\n",
              " 0.9980999827384949,\n",
              " 0.9986199736595154,\n",
              " 0.9978200197219849,\n",
              " 0.9988399744033813]"
            ]
          },
          "metadata": {
            "tags": []
          },
          "execution_count": 8
        }
      ]
    },
    {
      "cell_type": "markdown",
      "metadata": {
        "id": "Rp8PybvELAhv"
      },
      "source": [
        "###Learning Rates:\n",
        "\n",
        "LR = 0.1: Accuracy is 0.9988399744033813 <br>\n",
        "LR = 0.01: Accuracy is 0.999180018901825 <br>\n",
        "LR = 0.001: Accuracy is 0.9965199828147888 <br>\n",
        "\n",
        "LR of 0.01 yields the best accuracy."
      ]
    },
    {
      "cell_type": "markdown",
      "metadata": {
        "id": "QT3CQBax1-8G"
      },
      "source": [
        "(2a) Now train only the last layer for 1, 0.1, 0.01, and 0.001 while keeping all the other hyperparameters\n",
        "and settings same as earlier for finetuning. Which learning rate gives you the best accuracy on\n",
        "the target dataset ?"
      ]
    },
    {
      "cell_type": "code",
      "metadata": {
        "id": "VqP4HU5RS8he"
      },
      "source": [
        "for i in range(176):\n",
        "  model.layers[i].trainable = False\n",
        "\n",
        "LR = [1,0,1,0.01,0.001]\n",
        "for i in LR:\n",
        "  tf.keras.optimizers.SGD(learning_rate=0.1, momentum=0.9, nesterov=False, name=\"SGD\")\n",
        "\n",
        "  #Compiling Model\n",
        "  model.compile(optimizer='SGD',loss='categorical_crossentropy',metrics=['accuracy'])\n",
        "\n",
        "  #Fitting model\n",
        "  history = model.fit(X_train, y_train, batch_size=64, epochs=200, validation_data=(X_test,y_test),shuffle=True,verbose=0)\n",
        "  print(history.history['accuracy'])"
      ],
      "execution_count": null,
      "outputs": []
    },
    {
      "cell_type": "markdown",
      "metadata": {
        "id": "KHWMg0gg1--v"
      },
      "source": [
        "(2b) For your target dataset find the best final accuracy (across all the learning rates) from the two\n",
        "transfer learning approaches. Which approach and learning rate is the winner? Provide a plausible\n",
        "explanation to support your observation."
      ]
    },
    {
      "cell_type": "markdown",
      "metadata": {
        "id": "zuIy3rCq1_Bh"
      },
      "source": [
        "## Question 2"
      ]
    },
    {
      "cell_type": "markdown",
      "metadata": {
        "id": "0DfI3Azq1_Il"
      },
      "source": [
        "1. Both the papers use the same 1B image dataset. However one does weakly supervised pretraining while\n",
        "the other does semi-supervised . What is the difference between weakly supervised and semi-supervised\n",
        "pretraining ? How do they use the same dataset to do two different types of pretraining ? Explain."
      ]
    },
    {
      "cell_type": "markdown",
      "metadata": {
        "id": "QQYwAunKK8n0"
      },
      "source": [
        "### Solution:\n",
        "Weakly supervised pretraining using noisy labels, whereas semi-supervised learning has a teacher model trained on labeled data to generate labels for the unlabeled data."
      ]
    },
    {
      "cell_type": "markdown",
      "metadata": {
        "id": "faZvQP1P1_Lu"
      },
      "source": [
        "2. These questions are based on the paper by Mahajan et al. <br>\n",
        "(a) Are the model trained using hashtags robust against noise in the labels ? What experiments were\n",
        "done in the paper to study this and what was the finding ? Provide numbers from the paper to\n",
        "support your answer. <br>\n",
        "(b) Why is resampling of hashtag distribution important during pretraining for transfer learning ?\n"
      ]
    },
    {
      "cell_type": "markdown",
      "metadata": {
        "id": "EeOBTVL8K8n0"
      },
      "source": [
        "### Solution\n",
        "\n",
        "Yes, the model trained using hashtags were robust again noise. They pre-trained a ResNeXt model with 1B images and 17k labels where a portion of the labels were randomly replaced with hashtags sampled from the marginal distribution. p = 10% decreased the top-1 accuracy on ImageNet by around 1%, and that p = 25% decreased accuracy by about 2%. <br>\n",
        "\n",
        "Resampling the hashtag distribution allows to make sure that all classes are accounted for, and that there won't be a class left out during training. Since the hashtags followed a Zipfian distribution, if we just sample from that - a lot of classes would be under-represented."
      ]
    },
    {
      "cell_type": "markdown",
      "metadata": {
        "id": "0PAtYTza1_OJ"
      },
      "source": [
        "3. These questions are based on the paper by Yalzin et al. <br>\n",
        "(a) Why are there two models, a teacher and a student, and how does the student model leverages the\n",
        "teacher model ? Explain why teacher-student modeling is a type of distillation technique. <br>\n",
        "(b) What are the parameters K and P in stage 2 of the approach where unlabeled images are assigned\n",
        "classes using teacher network ? What was the idea behind taking P > 1 ? Explain in your own\n",
        "words. <br>\n",
        "(c) Explain how a new labeled dataset is created using unlabeled images ? Can an image in this new\n",
        "dataset belong to more than one class ? Explain. <br>\n",
        "(d) Refer to Figure 5 in the paper. Why does the accuracy of the student model first improves as we\n",
        "increase the value of K and then decreases ?"
      ]
    },
    {
      "cell_type": "markdown",
      "metadata": {
        "id": "ajldC61HK8n0"
      },
      "source": [
        "### Solution\n",
        "\n",
        "a) The teacher and student model is needed since the teacher model selects the top-K images in the unlabeled dataset and this dataset allows us generate a new training set. Since the student model is always 'smaller' than the teacher model, it is a distillation technique.\n",
        "\n",
        "b) $K$ refers to the number of examples in $\\mathcal{U}$ used to construct $\\hat{\\mathcal{D}}$ for each label in $\\mathcal{D}$. The parameter $P$ determines how many classes a candidate top-K image $I$ is allowed to belong to. The idea behind taking $P > 1$ frequent and non-frequent occurences are both accounted for.\n",
        "\n",
        "c) The new labeled dataset is created from the teacher model that selects the top-K images. For each image in the top-K, the image is then tagged with the classes corresponding to the $P$ largest elements in its softmax vector which allow an image to belong to more than 1 class. \n",
        "\n",
        "d) Increasing $K$ initially lets the student network allowed to be trained on more labeled data, without the noise problem. We will then end up with a higher quality dataset and leads to better performance. But if we keep increasing $K$ past a certain threshold, there will end up being too much noise in the labels which affects the dataset quality which in turn affects performance negatively."
      ]
    },
    {
      "cell_type": "markdown",
      "metadata": {
        "id": "3xEwMKJE1_Q7"
      },
      "source": [
        "## Question 3"
      ]
    },
    {
      "cell_type": "markdown",
      "metadata": {
        "id": "MV1GNyj91_TN"
      },
      "source": [
        "1. Why achieving peak FLOPs from hardware devices like GPUs is a di\u000ecult propostion in real systems\n",
        "? How does PPP help in capturing this ineffciency captured in Paleo model."
      ]
    },
    {
      "cell_type": "markdown",
      "metadata": {
        "id": "vk8rDjoqK8n0"
      },
      "source": [
        "### Solution:\n",
        "\n",
        "If we were to achieve peak FLOPS, then the framework would need to be optimized for the GPUs which would require in-depth knowledge of the GPUs themselves. PPP measure takes multiple factors into account by displaying the current FLOPs as a percentage of the theoretical maximum afforded by the hardware & software. "
      ]
    },
    {
      "cell_type": "markdown",
      "metadata": {
        "id": "7gW4pPlM2swX"
      },
      "source": [
        "2. Lu et al. showed that FLOPs consumed by convolution layers in VG16 account for about 99% of the\n",
        "total FLOPS in the forward pass. We will do a similar analysis for VGG19. Calculate FLOPs for\n",
        "di\u000berent layers in VGG19 and then calculate fraction of the total FLOPs attributed by convolution\n",
        "layers."
      ]
    },
    {
      "cell_type": "markdown",
      "metadata": {
        "id": "aMmjt2az2s39"
      },
      "source": [
        "3. Study the tables showing timing benchmarks from Alexnet (Table 2), VGG16 (Table 3), Googlenet\n",
        "(Table 5), and Resnet50 (Table 6). Why the measured time and sum of layerwise timings for forward\n",
        "pass did not match on GPUs ? What approach was adopted in Sec. 5 of the paper to mitigate the\n",
        "measurement overhead in GPUs."
      ]
    },
    {
      "cell_type": "markdown",
      "metadata": {
        "id": "BPdLoIuTK8n0"
      },
      "source": [
        "### Solution:\n",
        "\n",
        "The measured time and sum of layerwise timing for forward pass did not match on GPUs because CUDA allows for asynchronous computation. The cores on the GPU are sychronized so the timing will be off. The paper resolved this problem by running matrix multiplications asynchronously for many iterations, and with high iterations - the imapct of the overhead is pretty much negligible."
      ]
    },
    {
      "cell_type": "markdown",
      "metadata": {
        "id": "mAQuZnLt2s9q"
      },
      "source": [
        "4. In Lu et al. FLOPs for di\u000berent layers of a DNN are calculated. Use FLOPs numbers for VGG16\n",
        "(Table 3), Googlenet (Table 5), and Resnet50 (Table 6), and calculate the inference time (time to have\n",
        "a forward pass with one image) using published T\n",
        "ops number for K80 (Refer to NVIDIA TESLA\n",
        "GPU Accelerators). Use this to calculate the peak (theoretical) throughput achieved with K80 for these\n",
        "3 models."
      ]
    },
    {
      "cell_type": "markdown",
      "metadata": {
        "id": "FJ1X5Nnr3XS7"
      },
      "source": [
        "### Solution\n",
        "\n",
        "Tesla K80: double precision peak performance of 1.87 Tflops. \n",
        "\n",
        "Forward pass on VGG requires 15503M FLOPs; as such, one forward pass on a K80 would take $(15503 \\times 10^6) / (1.87 \\times 10^{12}) = 0.00829037433s$ so throughput is 120 images/sec.\n",
        "\n",
        "GoogLeNet inference time: $(1606 * 10^6) / (1.87 \\times 10^{12}) = 0.00085882352s$ per image. Throughoutput: 1164 images/sec.\n",
        "\n",
        "ResNet inference time: $(3922 * 10^6) / (1.87 \\times 10^{12}) = 0.0020973262s$. Throughput: 477 images/sec."
      ]
    }
  ]
}